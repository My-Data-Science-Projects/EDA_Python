{
 "cells": [
  {
   "cell_type": "markdown",
   "metadata": {},
   "source": [
    "# AQI of India\n",
    "\n",
    "### Air is what keeps humans alive. Monitoring it and understanding its quality is of immense importance to our well-being.\n",
    "\n",
    "AQI India dataset taken from [Kaggle](https://www.kaggle.com/rohanrao/air-quality-data-in-india)\n",
    "I am trying to figure out the city-wise data analysis of air pollution and it's pollutants.\n",
    "### Here, I will use: \n",
    "##### 1 : Pandas for Data Preparation & Cleaning\n",
    "##### 2 : Matplotlib and Seaborn for Exploratory Analysis & Visualization\n",
    "\n",
    "From this course, I learned a lot about numpy, pandas and matplotlib. Thanks to this awesome course."
   ]
  },
  {
   "cell_type": "markdown",
   "metadata": {},
   "source": [
    "### How to run the code\n",
    "\n",
    "This is an executable [*Jupyter notebook*](https://jupyter.org) hosted on [Jovian.ml](https://www.jovian.ml), a platform for sharing data science projects. You can run and experiment with the code in a couple of ways: *using free online resources* (recommended) or *on your own computer*.\n",
    "\n",
    "#### Option 1: Running using free online resources (1-click, recommended)\n",
    "\n",
    "The easiest way to start executing this notebook is to click the \"Run\" button at the top of this page, and select \"Run on Binder\". This will run the notebook on [mybinder.org](https://mybinder.org), a free online service for running Jupyter notebooks. You can also select \"Run on Colab\" or \"Run on Kaggle\".\n",
    "\n",
    "\n",
    "#### Option 2: Running on your computer locally\n",
    "\n",
    "1. Install Conda by [following these instructions](https://conda.io/projects/conda/en/latest/user-guide/install/index.html). Add Conda binaries to your system `PATH`, so you can use the `conda` command on your terminal.\n",
    "\n",
    "2. Create a Conda environment and install the required libraries by running these commands on the terminal:\n",
    "\n",
    "```\n",
    "conda create -n zerotopandas -y python=3.8 \n",
    "conda activate zerotopandas\n",
    "pip install jovian jupyter numpy pandas matplotlib seaborn opendatasets --upgrade\n",
    "```\n",
    "\n",
    "3. Press the \"Clone\" button above to copy the command for downloading the notebook, and run it on the terminal. This will create a new directory and download the notebook. The command will look something like this:\n",
    "\n",
    "```\n",
    "jovian clone notebook-owner/notebook-id\n",
    "```\n",
    "\n",
    "\n",
    "\n",
    "4. Enter the newly created directory using `cd directory-name` and start the Jupyter notebook.\n",
    "\n",
    "```\n",
    "jupyter notebook\n",
    "```\n",
    "\n",
    "You can now access Jupyter's web interface by clicking the link that shows up on the terminal or by visiting http://localhost:8888 on your browser. Click on the notebook file (it has a `.ipynb` extension) to open it.\n"
   ]
  },
  {
   "cell_type": "markdown",
   "metadata": {},
   "source": [
    "## Downloading the Dataset\n",
    "\n",
    "The source of this dataset will from Kaggle"
   ]
  },
  {
   "cell_type": "code",
   "execution_count": 1,
   "metadata": {},
   "outputs": [],
   "source": [
    "!pip install jovian opendatasets --upgrade --quiet"
   ]
  },
  {
   "cell_type": "markdown",
   "metadata": {},
   "source": [
    "Let's begin by downloading the data, and listing the files within the dataset."
   ]
  },
  {
   "cell_type": "code",
   "execution_count": 2,
   "metadata": {},
   "outputs": [],
   "source": [
    "# Change this\n",
    "dataset_url = 'https://www.kaggle.com/rohanrao/air-quality-data-in-india?select=city_day.csv' "
   ]
  },
  {
   "cell_type": "code",
   "execution_count": 3,
   "metadata": {},
   "outputs": [
    {
     "name": "stdout",
     "output_type": "stream",
     "text": [
      "Please provide your Kaggle credentials to download this dataset. Learn more: http://bit.ly/kaggle-creds\n",
      "Your Kaggle username: akashdeepdam\n",
      "Your Kaggle Key: ········\n"
     ]
    },
    {
     "name": "stderr",
     "output_type": "stream",
     "text": [
      "  5%|▌         | 4.00M/72.9M [00:00<00:01, 39.2MB/s]"
     ]
    },
    {
     "name": "stdout",
     "output_type": "stream",
     "text": [
      "Downloading air-quality-data-in-india.zip to ./air-quality-data-in-india\n"
     ]
    },
    {
     "name": "stderr",
     "output_type": "stream",
     "text": [
      "100%|██████████| 72.9M/72.9M [00:01<00:00, 76.0MB/s]\n"
     ]
    },
    {
     "name": "stdout",
     "output_type": "stream",
     "text": [
      "\n"
     ]
    }
   ],
   "source": [
    "import opendatasets as od\n",
    "od.download(dataset_url)"
   ]
  },
  {
   "cell_type": "markdown",
   "metadata": {},
   "source": [
    "The dataset has been downloaded and extracted."
   ]
  },
  {
   "cell_type": "code",
   "execution_count": 1,
   "metadata": {},
   "outputs": [],
   "source": [
    "# Change this\n",
    "data_dir = './air-quality-data-in-india'"
   ]
  },
  {
   "cell_type": "code",
   "execution_count": 2,
   "metadata": {},
   "outputs": [
    {
     "data": {
      "text/plain": [
       "['city_day.csv']"
      ]
     },
     "execution_count": 2,
     "metadata": {},
     "output_type": "execute_result"
    }
   ],
   "source": [
    "import os\n",
    "os.listdir(data_dir)"
   ]
  },
  {
   "cell_type": "markdown",
   "metadata": {},
   "source": [
    "Let us save and upload our work to Jovian before continuing."
   ]
  },
  {
   "cell_type": "code",
   "execution_count": 8,
   "metadata": {},
   "outputs": [],
   "source": [
    "project_name = \"zero-to-pandas-project\" # change this (use lowercase letters and hyphens only)"
   ]
  },
  {
   "cell_type": "code",
   "execution_count": 9,
   "metadata": {},
   "outputs": [],
   "source": [
    "!pip install jovian --upgrade -q"
   ]
  },
  {
   "cell_type": "code",
   "execution_count": 10,
   "metadata": {},
   "outputs": [],
   "source": [
    "import jovian"
   ]
  },
  {
   "cell_type": "code",
   "execution_count": null,
   "metadata": {},
   "outputs": [],
   "source": [
    "jovian.commit(project=project_name)"
   ]
  },
  {
   "cell_type": "markdown",
   "metadata": {},
   "source": [
    "## Data Preparation and Cleaning\n",
    "\n",
    "###  We will use city_day.csv in entire project to analyse the day-wise data in cities\n",
    "\n",
    "#### We will use pandas to explore rows, columns and also will handle missing or invalid values, if any.\n",
    "\n"
   ]
  },
  {
   "cell_type": "code",
   "execution_count": 1,
   "metadata": {},
   "outputs": [],
   "source": [
    "import pandas as pd"
   ]
  },
  {
   "cell_type": "code",
   "execution_count": 2,
   "metadata": {},
   "outputs": [],
   "source": [
    "# Here, we using read_csv for read the .csv file\n",
    "\n",
    "city_day_df = pd.read_csv('./air-quality-data-in-india/city_day.csv')\n",
    "city_day_df = pd.DataFrame(city_day_df)"
   ]
  },
  {
   "cell_type": "code",
   "execution_count": 3,
   "metadata": {},
   "outputs": [
    {
     "data": {
      "text/html": [
       "<div>\n",
       "<style scoped>\n",
       "    .dataframe tbody tr th:only-of-type {\n",
       "        vertical-align: middle;\n",
       "    }\n",
       "\n",
       "    .dataframe tbody tr th {\n",
       "        vertical-align: top;\n",
       "    }\n",
       "\n",
       "    .dataframe thead th {\n",
       "        text-align: right;\n",
       "    }\n",
       "</style>\n",
       "<table border=\"1\" class=\"dataframe\">\n",
       "  <thead>\n",
       "    <tr style=\"text-align: right;\">\n",
       "      <th></th>\n",
       "      <th>City</th>\n",
       "      <th>Date</th>\n",
       "      <th>PM2.5</th>\n",
       "      <th>PM10</th>\n",
       "      <th>NO</th>\n",
       "      <th>NO2</th>\n",
       "      <th>NOx</th>\n",
       "      <th>NH3</th>\n",
       "      <th>CO</th>\n",
       "      <th>SO2</th>\n",
       "      <th>O3</th>\n",
       "      <th>Benzene</th>\n",
       "      <th>Toluene</th>\n",
       "      <th>Xylene</th>\n",
       "      <th>AQI</th>\n",
       "      <th>AQI_Bucket</th>\n",
       "    </tr>\n",
       "  </thead>\n",
       "  <tbody>\n",
       "    <tr>\n",
       "      <th>0</th>\n",
       "      <td>Ahmedabad</td>\n",
       "      <td>2015-01-01</td>\n",
       "      <td>NaN</td>\n",
       "      <td>NaN</td>\n",
       "      <td>0.92</td>\n",
       "      <td>18.22</td>\n",
       "      <td>17.15</td>\n",
       "      <td>NaN</td>\n",
       "      <td>0.92</td>\n",
       "      <td>27.64</td>\n",
       "      <td>133.36</td>\n",
       "      <td>0.00</td>\n",
       "      <td>0.02</td>\n",
       "      <td>0.00</td>\n",
       "      <td>NaN</td>\n",
       "      <td>NaN</td>\n",
       "    </tr>\n",
       "    <tr>\n",
       "      <th>1</th>\n",
       "      <td>Ahmedabad</td>\n",
       "      <td>2015-01-02</td>\n",
       "      <td>NaN</td>\n",
       "      <td>NaN</td>\n",
       "      <td>0.97</td>\n",
       "      <td>15.69</td>\n",
       "      <td>16.46</td>\n",
       "      <td>NaN</td>\n",
       "      <td>0.97</td>\n",
       "      <td>24.55</td>\n",
       "      <td>34.06</td>\n",
       "      <td>3.68</td>\n",
       "      <td>5.50</td>\n",
       "      <td>3.77</td>\n",
       "      <td>NaN</td>\n",
       "      <td>NaN</td>\n",
       "    </tr>\n",
       "    <tr>\n",
       "      <th>2</th>\n",
       "      <td>Ahmedabad</td>\n",
       "      <td>2015-01-03</td>\n",
       "      <td>NaN</td>\n",
       "      <td>NaN</td>\n",
       "      <td>17.40</td>\n",
       "      <td>19.30</td>\n",
       "      <td>29.70</td>\n",
       "      <td>NaN</td>\n",
       "      <td>17.40</td>\n",
       "      <td>29.07</td>\n",
       "      <td>30.70</td>\n",
       "      <td>6.80</td>\n",
       "      <td>16.40</td>\n",
       "      <td>2.25</td>\n",
       "      <td>NaN</td>\n",
       "      <td>NaN</td>\n",
       "    </tr>\n",
       "    <tr>\n",
       "      <th>3</th>\n",
       "      <td>Ahmedabad</td>\n",
       "      <td>2015-01-04</td>\n",
       "      <td>NaN</td>\n",
       "      <td>NaN</td>\n",
       "      <td>1.70</td>\n",
       "      <td>18.48</td>\n",
       "      <td>17.97</td>\n",
       "      <td>NaN</td>\n",
       "      <td>1.70</td>\n",
       "      <td>18.59</td>\n",
       "      <td>36.08</td>\n",
       "      <td>4.43</td>\n",
       "      <td>10.14</td>\n",
       "      <td>1.00</td>\n",
       "      <td>NaN</td>\n",
       "      <td>NaN</td>\n",
       "    </tr>\n",
       "    <tr>\n",
       "      <th>4</th>\n",
       "      <td>Ahmedabad</td>\n",
       "      <td>2015-01-05</td>\n",
       "      <td>NaN</td>\n",
       "      <td>NaN</td>\n",
       "      <td>22.10</td>\n",
       "      <td>21.42</td>\n",
       "      <td>37.76</td>\n",
       "      <td>NaN</td>\n",
       "      <td>22.10</td>\n",
       "      <td>39.33</td>\n",
       "      <td>39.31</td>\n",
       "      <td>7.01</td>\n",
       "      <td>18.89</td>\n",
       "      <td>2.78</td>\n",
       "      <td>NaN</td>\n",
       "      <td>NaN</td>\n",
       "    </tr>\n",
       "    <tr>\n",
       "      <th>...</th>\n",
       "      <td>...</td>\n",
       "      <td>...</td>\n",
       "      <td>...</td>\n",
       "      <td>...</td>\n",
       "      <td>...</td>\n",
       "      <td>...</td>\n",
       "      <td>...</td>\n",
       "      <td>...</td>\n",
       "      <td>...</td>\n",
       "      <td>...</td>\n",
       "      <td>...</td>\n",
       "      <td>...</td>\n",
       "      <td>...</td>\n",
       "      <td>...</td>\n",
       "      <td>...</td>\n",
       "      <td>...</td>\n",
       "    </tr>\n",
       "    <tr>\n",
       "      <th>29526</th>\n",
       "      <td>Visakhapatnam</td>\n",
       "      <td>2020-06-27</td>\n",
       "      <td>15.02</td>\n",
       "      <td>50.94</td>\n",
       "      <td>7.68</td>\n",
       "      <td>25.06</td>\n",
       "      <td>19.54</td>\n",
       "      <td>12.47</td>\n",
       "      <td>0.47</td>\n",
       "      <td>8.55</td>\n",
       "      <td>23.30</td>\n",
       "      <td>2.24</td>\n",
       "      <td>12.07</td>\n",
       "      <td>0.73</td>\n",
       "      <td>41.0</td>\n",
       "      <td>Good</td>\n",
       "    </tr>\n",
       "    <tr>\n",
       "      <th>29527</th>\n",
       "      <td>Visakhapatnam</td>\n",
       "      <td>2020-06-28</td>\n",
       "      <td>24.38</td>\n",
       "      <td>74.09</td>\n",
       "      <td>3.42</td>\n",
       "      <td>26.06</td>\n",
       "      <td>16.53</td>\n",
       "      <td>11.99</td>\n",
       "      <td>0.52</td>\n",
       "      <td>12.72</td>\n",
       "      <td>30.14</td>\n",
       "      <td>0.74</td>\n",
       "      <td>2.21</td>\n",
       "      <td>0.38</td>\n",
       "      <td>70.0</td>\n",
       "      <td>Satisfactory</td>\n",
       "    </tr>\n",
       "    <tr>\n",
       "      <th>29528</th>\n",
       "      <td>Visakhapatnam</td>\n",
       "      <td>2020-06-29</td>\n",
       "      <td>22.91</td>\n",
       "      <td>65.73</td>\n",
       "      <td>3.45</td>\n",
       "      <td>29.53</td>\n",
       "      <td>18.33</td>\n",
       "      <td>10.71</td>\n",
       "      <td>0.48</td>\n",
       "      <td>8.42</td>\n",
       "      <td>30.96</td>\n",
       "      <td>0.01</td>\n",
       "      <td>0.01</td>\n",
       "      <td>0.00</td>\n",
       "      <td>68.0</td>\n",
       "      <td>Satisfactory</td>\n",
       "    </tr>\n",
       "    <tr>\n",
       "      <th>29529</th>\n",
       "      <td>Visakhapatnam</td>\n",
       "      <td>2020-06-30</td>\n",
       "      <td>16.64</td>\n",
       "      <td>49.97</td>\n",
       "      <td>4.05</td>\n",
       "      <td>29.26</td>\n",
       "      <td>18.80</td>\n",
       "      <td>10.03</td>\n",
       "      <td>0.52</td>\n",
       "      <td>9.84</td>\n",
       "      <td>28.30</td>\n",
       "      <td>0.00</td>\n",
       "      <td>0.00</td>\n",
       "      <td>0.00</td>\n",
       "      <td>54.0</td>\n",
       "      <td>Satisfactory</td>\n",
       "    </tr>\n",
       "    <tr>\n",
       "      <th>29530</th>\n",
       "      <td>Visakhapatnam</td>\n",
       "      <td>2020-07-01</td>\n",
       "      <td>15.00</td>\n",
       "      <td>66.00</td>\n",
       "      <td>0.40</td>\n",
       "      <td>26.85</td>\n",
       "      <td>14.05</td>\n",
       "      <td>5.20</td>\n",
       "      <td>0.59</td>\n",
       "      <td>2.10</td>\n",
       "      <td>17.05</td>\n",
       "      <td>NaN</td>\n",
       "      <td>NaN</td>\n",
       "      <td>NaN</td>\n",
       "      <td>50.0</td>\n",
       "      <td>Good</td>\n",
       "    </tr>\n",
       "  </tbody>\n",
       "</table>\n",
       "<p>29531 rows × 16 columns</p>\n",
       "</div>"
      ],
      "text/plain": [
       "                City        Date  PM2.5   PM10     NO    NO2    NOx    NH3  \\\n",
       "0          Ahmedabad  2015-01-01    NaN    NaN   0.92  18.22  17.15    NaN   \n",
       "1          Ahmedabad  2015-01-02    NaN    NaN   0.97  15.69  16.46    NaN   \n",
       "2          Ahmedabad  2015-01-03    NaN    NaN  17.40  19.30  29.70    NaN   \n",
       "3          Ahmedabad  2015-01-04    NaN    NaN   1.70  18.48  17.97    NaN   \n",
       "4          Ahmedabad  2015-01-05    NaN    NaN  22.10  21.42  37.76    NaN   \n",
       "...              ...         ...    ...    ...    ...    ...    ...    ...   \n",
       "29526  Visakhapatnam  2020-06-27  15.02  50.94   7.68  25.06  19.54  12.47   \n",
       "29527  Visakhapatnam  2020-06-28  24.38  74.09   3.42  26.06  16.53  11.99   \n",
       "29528  Visakhapatnam  2020-06-29  22.91  65.73   3.45  29.53  18.33  10.71   \n",
       "29529  Visakhapatnam  2020-06-30  16.64  49.97   4.05  29.26  18.80  10.03   \n",
       "29530  Visakhapatnam  2020-07-01  15.00  66.00   0.40  26.85  14.05   5.20   \n",
       "\n",
       "          CO    SO2      O3  Benzene  Toluene  Xylene   AQI    AQI_Bucket  \n",
       "0       0.92  27.64  133.36     0.00     0.02    0.00   NaN           NaN  \n",
       "1       0.97  24.55   34.06     3.68     5.50    3.77   NaN           NaN  \n",
       "2      17.40  29.07   30.70     6.80    16.40    2.25   NaN           NaN  \n",
       "3       1.70  18.59   36.08     4.43    10.14    1.00   NaN           NaN  \n",
       "4      22.10  39.33   39.31     7.01    18.89    2.78   NaN           NaN  \n",
       "...      ...    ...     ...      ...      ...     ...   ...           ...  \n",
       "29526   0.47   8.55   23.30     2.24    12.07    0.73  41.0          Good  \n",
       "29527   0.52  12.72   30.14     0.74     2.21    0.38  70.0  Satisfactory  \n",
       "29528   0.48   8.42   30.96     0.01     0.01    0.00  68.0  Satisfactory  \n",
       "29529   0.52   9.84   28.30     0.00     0.00    0.00  54.0  Satisfactory  \n",
       "29530   0.59   2.10   17.05      NaN      NaN     NaN  50.0          Good  \n",
       "\n",
       "[29531 rows x 16 columns]"
      ]
     },
     "execution_count": 3,
     "metadata": {},
     "output_type": "execute_result"
    }
   ],
   "source": [
    "# Here is our table to show\n",
    "\n",
    "city_day_df"
   ]
  },
  {
   "cell_type": "code",
   "execution_count": 4,
   "metadata": {},
   "outputs": [
    {
     "data": {
      "text/plain": [
       "Index(['City', 'Date', 'PM2.5', 'PM10', 'NO', 'NO2', 'NOx', 'NH3', 'CO', 'SO2',\n",
       "       'O3', 'Benzene', 'Toluene', 'Xylene', 'AQI', 'AQI_Bucket'],\n",
       "      dtype='object')"
      ]
     },
     "execution_count": 4,
     "metadata": {},
     "output_type": "execute_result"
    }
   ],
   "source": [
    "# We have the following columns in dataset\n",
    "\n",
    "city_day_df.columns"
   ]
  },
  {
   "cell_type": "code",
   "execution_count": 5,
   "metadata": {},
   "outputs": [
    {
     "name": "stdout",
     "output_type": "stream",
     "text": [
      "<class 'pandas.core.frame.DataFrame'>\n",
      "RangeIndex: 29531 entries, 0 to 29530\n",
      "Data columns (total 16 columns):\n",
      " #   Column      Non-Null Count  Dtype  \n",
      "---  ------      --------------  -----  \n",
      " 0   City        29531 non-null  object \n",
      " 1   Date        29531 non-null  object \n",
      " 2   PM2.5       24933 non-null  float64\n",
      " 3   PM10        18391 non-null  float64\n",
      " 4   NO          25949 non-null  float64\n",
      " 5   NO2         25946 non-null  float64\n",
      " 6   NOx         25346 non-null  float64\n",
      " 7   NH3         19203 non-null  float64\n",
      " 8   CO          27472 non-null  float64\n",
      " 9   SO2         25677 non-null  float64\n",
      " 10  O3          25509 non-null  float64\n",
      " 11  Benzene     23908 non-null  float64\n",
      " 12  Toluene     21490 non-null  float64\n",
      " 13  Xylene      11422 non-null  float64\n",
      " 14  AQI         24850 non-null  float64\n",
      " 15  AQI_Bucket  24850 non-null  object \n",
      "dtypes: float64(13), object(3)\n",
      "memory usage: 3.6+ MB\n"
     ]
    }
   ],
   "source": [
    "# Details info about our dataframe\n",
    "\n",
    "city_day_df.info()"
   ]
  },
  {
   "cell_type": "code",
   "execution_count": 6,
   "metadata": {},
   "outputs": [
    {
     "data": {
      "text/plain": [
       "City              0\n",
       "Date              0\n",
       "PM2.5          4598\n",
       "PM10          11140\n",
       "NO             3582\n",
       "NO2            3585\n",
       "NOx            4185\n",
       "NH3           10328\n",
       "CO             2059\n",
       "SO2            3854\n",
       "O3             4022\n",
       "Benzene        5623\n",
       "Toluene        8041\n",
       "Xylene        18109\n",
       "AQI            4681\n",
       "AQI_Bucket     4681\n",
       "dtype: int64"
      ]
     },
     "execution_count": 6,
     "metadata": {},
     "output_type": "execute_result"
    }
   ],
   "source": [
    "# Null value counts\n",
    "\n",
    "city_day_df.isnull().sum()"
   ]
  },
  {
   "cell_type": "code",
   "execution_count": 7,
   "metadata": {},
   "outputs": [
    {
     "data": {
      "text/html": [
       "<style  type=\"text/css\" >\n",
       "#T_3f6cb_row0_col0,#T_3f6cb_row0_col1{\n",
       "            background-color:  #0000ff;\n",
       "            color:  #f1f1f1;\n",
       "        }#T_3f6cb_row1_col0,#T_3f6cb_row1_col1{\n",
       "            background-color:  #006fc8;\n",
       "            color:  #f1f1f1;\n",
       "        }#T_3f6cb_row2_col0,#T_3f6cb_row2_col1{\n",
       "            background-color:  #007cc1;\n",
       "            color:  #f1f1f1;\n",
       "        }#T_3f6cb_row3_col0,#T_3f6cb_row3_col1{\n",
       "            background-color:  #00a0af;\n",
       "            color:  #000000;\n",
       "        }#T_3f6cb_row4_col0,#T_3f6cb_row4_col1{\n",
       "            background-color:  #00c79c;\n",
       "            color:  #000000;\n",
       "        }#T_3f6cb_row5_col0,#T_3f6cb_row5_col1,#T_3f6cb_row6_col0,#T_3f6cb_row6_col1{\n",
       "            background-color:  #00d694;\n",
       "            color:  #000000;\n",
       "        }#T_3f6cb_row7_col0,#T_3f6cb_row7_col1{\n",
       "            background-color:  #00d793;\n",
       "            color:  #000000;\n",
       "        }#T_3f6cb_row8_col0,#T_3f6cb_row8_col1{\n",
       "            background-color:  #00de90;\n",
       "            color:  #000000;\n",
       "        }#T_3f6cb_row9_col0,#T_3f6cb_row9_col1{\n",
       "            background-color:  #00e08f;\n",
       "            color:  #000000;\n",
       "        }#T_3f6cb_row10_col0,#T_3f6cb_row10_col1{\n",
       "            background-color:  #00e38e;\n",
       "            color:  #000000;\n",
       "        }#T_3f6cb_row11_col0,#T_3f6cb_row11_col1,#T_3f6cb_row12_col0,#T_3f6cb_row12_col1{\n",
       "            background-color:  #00e78c;\n",
       "            color:  #000000;\n",
       "        }#T_3f6cb_row13_col0,#T_3f6cb_row13_col1{\n",
       "            background-color:  #00ff80;\n",
       "            color:  #000000;\n",
       "        }</style><table id=\"T_3f6cb_\" ><thead>    <tr>        <th class=\"blank level0\" ></th>        <th class=\"col_heading level0 col0\" >No of missing values</th>        <th class=\"col_heading level0 col1\" >% of missing values</th>    </tr></thead><tbody>\n",
       "                <tr>\n",
       "                        <th id=\"T_3f6cb_level0_row0\" class=\"row_heading level0 row0\" >Xylene</th>\n",
       "                        <td id=\"T_3f6cb_row0_col0\" class=\"data row0 col0\" >18109</td>\n",
       "                        <td id=\"T_3f6cb_row0_col1\" class=\"data row0 col1\" >61.320000</td>\n",
       "            </tr>\n",
       "            <tr>\n",
       "                        <th id=\"T_3f6cb_level0_row1\" class=\"row_heading level0 row1\" >PM10</th>\n",
       "                        <td id=\"T_3f6cb_row1_col0\" class=\"data row1 col0\" >11140</td>\n",
       "                        <td id=\"T_3f6cb_row1_col1\" class=\"data row1 col1\" >37.720000</td>\n",
       "            </tr>\n",
       "            <tr>\n",
       "                        <th id=\"T_3f6cb_level0_row2\" class=\"row_heading level0 row2\" >NH3</th>\n",
       "                        <td id=\"T_3f6cb_row2_col0\" class=\"data row2 col0\" >10328</td>\n",
       "                        <td id=\"T_3f6cb_row2_col1\" class=\"data row2 col1\" >34.970000</td>\n",
       "            </tr>\n",
       "            <tr>\n",
       "                        <th id=\"T_3f6cb_level0_row3\" class=\"row_heading level0 row3\" >Toluene</th>\n",
       "                        <td id=\"T_3f6cb_row3_col0\" class=\"data row3 col0\" >8041</td>\n",
       "                        <td id=\"T_3f6cb_row3_col1\" class=\"data row3 col1\" >27.230000</td>\n",
       "            </tr>\n",
       "            <tr>\n",
       "                        <th id=\"T_3f6cb_level0_row4\" class=\"row_heading level0 row4\" >Benzene</th>\n",
       "                        <td id=\"T_3f6cb_row4_col0\" class=\"data row4 col0\" >5623</td>\n",
       "                        <td id=\"T_3f6cb_row4_col1\" class=\"data row4 col1\" >19.040000</td>\n",
       "            </tr>\n",
       "            <tr>\n",
       "                        <th id=\"T_3f6cb_level0_row5\" class=\"row_heading level0 row5\" >AQI</th>\n",
       "                        <td id=\"T_3f6cb_row5_col0\" class=\"data row5 col0\" >4681</td>\n",
       "                        <td id=\"T_3f6cb_row5_col1\" class=\"data row5 col1\" >15.850000</td>\n",
       "            </tr>\n",
       "            <tr>\n",
       "                        <th id=\"T_3f6cb_level0_row6\" class=\"row_heading level0 row6\" >AQI_Bucket</th>\n",
       "                        <td id=\"T_3f6cb_row6_col0\" class=\"data row6 col0\" >4681</td>\n",
       "                        <td id=\"T_3f6cb_row6_col1\" class=\"data row6 col1\" >15.850000</td>\n",
       "            </tr>\n",
       "            <tr>\n",
       "                        <th id=\"T_3f6cb_level0_row7\" class=\"row_heading level0 row7\" >PM2.5</th>\n",
       "                        <td id=\"T_3f6cb_row7_col0\" class=\"data row7 col0\" >4598</td>\n",
       "                        <td id=\"T_3f6cb_row7_col1\" class=\"data row7 col1\" >15.570000</td>\n",
       "            </tr>\n",
       "            <tr>\n",
       "                        <th id=\"T_3f6cb_level0_row8\" class=\"row_heading level0 row8\" >NOx</th>\n",
       "                        <td id=\"T_3f6cb_row8_col0\" class=\"data row8 col0\" >4185</td>\n",
       "                        <td id=\"T_3f6cb_row8_col1\" class=\"data row8 col1\" >14.170000</td>\n",
       "            </tr>\n",
       "            <tr>\n",
       "                        <th id=\"T_3f6cb_level0_row9\" class=\"row_heading level0 row9\" >O3</th>\n",
       "                        <td id=\"T_3f6cb_row9_col0\" class=\"data row9 col0\" >4022</td>\n",
       "                        <td id=\"T_3f6cb_row9_col1\" class=\"data row9 col1\" >13.620000</td>\n",
       "            </tr>\n",
       "            <tr>\n",
       "                        <th id=\"T_3f6cb_level0_row10\" class=\"row_heading level0 row10\" >SO2</th>\n",
       "                        <td id=\"T_3f6cb_row10_col0\" class=\"data row10 col0\" >3854</td>\n",
       "                        <td id=\"T_3f6cb_row10_col1\" class=\"data row10 col1\" >13.050000</td>\n",
       "            </tr>\n",
       "            <tr>\n",
       "                        <th id=\"T_3f6cb_level0_row11\" class=\"row_heading level0 row11\" >NO2</th>\n",
       "                        <td id=\"T_3f6cb_row11_col0\" class=\"data row11 col0\" >3585</td>\n",
       "                        <td id=\"T_3f6cb_row11_col1\" class=\"data row11 col1\" >12.140000</td>\n",
       "            </tr>\n",
       "            <tr>\n",
       "                        <th id=\"T_3f6cb_level0_row12\" class=\"row_heading level0 row12\" >NO</th>\n",
       "                        <td id=\"T_3f6cb_row12_col0\" class=\"data row12 col0\" >3582</td>\n",
       "                        <td id=\"T_3f6cb_row12_col1\" class=\"data row12 col1\" >12.130000</td>\n",
       "            </tr>\n",
       "            <tr>\n",
       "                        <th id=\"T_3f6cb_level0_row13\" class=\"row_heading level0 row13\" >CO</th>\n",
       "                        <td id=\"T_3f6cb_row13_col0\" class=\"data row13 col0\" >2059</td>\n",
       "                        <td id=\"T_3f6cb_row13_col1\" class=\"data row13 col1\" >6.970000</td>\n",
       "            </tr>\n",
       "    </tbody></table>"
      ],
      "text/plain": [
       "<pandas.io.formats.style.Styler at 0x23c7c247850>"
      ]
     },
     "execution_count": 7,
     "metadata": {},
     "output_type": "execute_result"
    }
   ],
   "source": [
    "# Here a function to make missing value table\n",
    "def missing_value_table(df):\n",
    "    values = df.isnull().sum()\n",
    "    percentage = 100*df.isnull().sum()/len(df)\n",
    "    table = pd.concat([values,percentage.round(2)],axis=1)\n",
    "    table.columns = ['No of missing values','% of missing values']\n",
    "    return table[table['No of missing values']!=0].sort_values('% of missing values',ascending=False).style.background_gradient('winter_r')\n",
    "    \n",
    "missing_value_table(city_day_df)"
   ]
  },
  {
   "cell_type": "code",
   "execution_count": 8,
   "metadata": {},
   "outputs": [
    {
     "data": {
      "text/html": [
       "<div>\n",
       "<style scoped>\n",
       "    .dataframe tbody tr th:only-of-type {\n",
       "        vertical-align: middle;\n",
       "    }\n",
       "\n",
       "    .dataframe tbody tr th {\n",
       "        vertical-align: top;\n",
       "    }\n",
       "\n",
       "    .dataframe thead th {\n",
       "        text-align: right;\n",
       "    }\n",
       "</style>\n",
       "<table border=\"1\" class=\"dataframe\">\n",
       "  <thead>\n",
       "    <tr style=\"text-align: right;\">\n",
       "      <th></th>\n",
       "      <th>PM2.5</th>\n",
       "      <th>PM10</th>\n",
       "      <th>NO</th>\n",
       "      <th>NO2</th>\n",
       "      <th>NOx</th>\n",
       "      <th>NH3</th>\n",
       "      <th>CO</th>\n",
       "      <th>SO2</th>\n",
       "      <th>O3</th>\n",
       "      <th>Benzene</th>\n",
       "      <th>Toluene</th>\n",
       "      <th>Xylene</th>\n",
       "      <th>AQI</th>\n",
       "    </tr>\n",
       "  </thead>\n",
       "  <tbody>\n",
       "    <tr>\n",
       "      <th>count</th>\n",
       "      <td>24933.000000</td>\n",
       "      <td>18391.000000</td>\n",
       "      <td>25949.000000</td>\n",
       "      <td>25946.000000</td>\n",
       "      <td>25346.000000</td>\n",
       "      <td>19203.000000</td>\n",
       "      <td>27472.000000</td>\n",
       "      <td>25677.000000</td>\n",
       "      <td>25509.000000</td>\n",
       "      <td>23908.000000</td>\n",
       "      <td>21490.000000</td>\n",
       "      <td>11422.000000</td>\n",
       "      <td>24850.000000</td>\n",
       "    </tr>\n",
       "    <tr>\n",
       "      <th>mean</th>\n",
       "      <td>67.450578</td>\n",
       "      <td>118.127103</td>\n",
       "      <td>17.574730</td>\n",
       "      <td>28.560659</td>\n",
       "      <td>32.309123</td>\n",
       "      <td>23.483476</td>\n",
       "      <td>2.248598</td>\n",
       "      <td>14.531977</td>\n",
       "      <td>34.491430</td>\n",
       "      <td>3.280840</td>\n",
       "      <td>8.700972</td>\n",
       "      <td>3.070128</td>\n",
       "      <td>166.463581</td>\n",
       "    </tr>\n",
       "    <tr>\n",
       "      <th>std</th>\n",
       "      <td>64.661449</td>\n",
       "      <td>90.605110</td>\n",
       "      <td>22.785846</td>\n",
       "      <td>24.474746</td>\n",
       "      <td>31.646011</td>\n",
       "      <td>25.684275</td>\n",
       "      <td>6.962884</td>\n",
       "      <td>18.133775</td>\n",
       "      <td>21.694928</td>\n",
       "      <td>15.811136</td>\n",
       "      <td>19.969164</td>\n",
       "      <td>6.323247</td>\n",
       "      <td>140.696585</td>\n",
       "    </tr>\n",
       "    <tr>\n",
       "      <th>min</th>\n",
       "      <td>0.040000</td>\n",
       "      <td>0.010000</td>\n",
       "      <td>0.020000</td>\n",
       "      <td>0.010000</td>\n",
       "      <td>0.000000</td>\n",
       "      <td>0.010000</td>\n",
       "      <td>0.000000</td>\n",
       "      <td>0.010000</td>\n",
       "      <td>0.010000</td>\n",
       "      <td>0.000000</td>\n",
       "      <td>0.000000</td>\n",
       "      <td>0.000000</td>\n",
       "      <td>13.000000</td>\n",
       "    </tr>\n",
       "    <tr>\n",
       "      <th>25%</th>\n",
       "      <td>28.820000</td>\n",
       "      <td>56.255000</td>\n",
       "      <td>5.630000</td>\n",
       "      <td>11.750000</td>\n",
       "      <td>12.820000</td>\n",
       "      <td>8.580000</td>\n",
       "      <td>0.510000</td>\n",
       "      <td>5.670000</td>\n",
       "      <td>18.860000</td>\n",
       "      <td>0.120000</td>\n",
       "      <td>0.600000</td>\n",
       "      <td>0.140000</td>\n",
       "      <td>81.000000</td>\n",
       "    </tr>\n",
       "    <tr>\n",
       "      <th>50%</th>\n",
       "      <td>48.570000</td>\n",
       "      <td>95.680000</td>\n",
       "      <td>9.890000</td>\n",
       "      <td>21.690000</td>\n",
       "      <td>23.520000</td>\n",
       "      <td>15.850000</td>\n",
       "      <td>0.890000</td>\n",
       "      <td>9.160000</td>\n",
       "      <td>30.840000</td>\n",
       "      <td>1.070000</td>\n",
       "      <td>2.970000</td>\n",
       "      <td>0.980000</td>\n",
       "      <td>118.000000</td>\n",
       "    </tr>\n",
       "    <tr>\n",
       "      <th>75%</th>\n",
       "      <td>80.590000</td>\n",
       "      <td>149.745000</td>\n",
       "      <td>19.950000</td>\n",
       "      <td>37.620000</td>\n",
       "      <td>40.127500</td>\n",
       "      <td>30.020000</td>\n",
       "      <td>1.450000</td>\n",
       "      <td>15.220000</td>\n",
       "      <td>45.570000</td>\n",
       "      <td>3.080000</td>\n",
       "      <td>9.150000</td>\n",
       "      <td>3.350000</td>\n",
       "      <td>208.000000</td>\n",
       "    </tr>\n",
       "    <tr>\n",
       "      <th>max</th>\n",
       "      <td>949.990000</td>\n",
       "      <td>1000.000000</td>\n",
       "      <td>390.680000</td>\n",
       "      <td>362.210000</td>\n",
       "      <td>467.630000</td>\n",
       "      <td>352.890000</td>\n",
       "      <td>175.810000</td>\n",
       "      <td>193.860000</td>\n",
       "      <td>257.730000</td>\n",
       "      <td>455.030000</td>\n",
       "      <td>454.850000</td>\n",
       "      <td>170.370000</td>\n",
       "      <td>2049.000000</td>\n",
       "    </tr>\n",
       "  </tbody>\n",
       "</table>\n",
       "</div>"
      ],
      "text/plain": [
       "              PM2.5          PM10            NO           NO2           NOx  \\\n",
       "count  24933.000000  18391.000000  25949.000000  25946.000000  25346.000000   \n",
       "mean      67.450578    118.127103     17.574730     28.560659     32.309123   \n",
       "std       64.661449     90.605110     22.785846     24.474746     31.646011   \n",
       "min        0.040000      0.010000      0.020000      0.010000      0.000000   \n",
       "25%       28.820000     56.255000      5.630000     11.750000     12.820000   \n",
       "50%       48.570000     95.680000      9.890000     21.690000     23.520000   \n",
       "75%       80.590000    149.745000     19.950000     37.620000     40.127500   \n",
       "max      949.990000   1000.000000    390.680000    362.210000    467.630000   \n",
       "\n",
       "                NH3            CO           SO2            O3       Benzene  \\\n",
       "count  19203.000000  27472.000000  25677.000000  25509.000000  23908.000000   \n",
       "mean      23.483476      2.248598     14.531977     34.491430      3.280840   \n",
       "std       25.684275      6.962884     18.133775     21.694928     15.811136   \n",
       "min        0.010000      0.000000      0.010000      0.010000      0.000000   \n",
       "25%        8.580000      0.510000      5.670000     18.860000      0.120000   \n",
       "50%       15.850000      0.890000      9.160000     30.840000      1.070000   \n",
       "75%       30.020000      1.450000     15.220000     45.570000      3.080000   \n",
       "max      352.890000    175.810000    193.860000    257.730000    455.030000   \n",
       "\n",
       "            Toluene        Xylene           AQI  \n",
       "count  21490.000000  11422.000000  24850.000000  \n",
       "mean       8.700972      3.070128    166.463581  \n",
       "std       19.969164      6.323247    140.696585  \n",
       "min        0.000000      0.000000     13.000000  \n",
       "25%        0.600000      0.140000     81.000000  \n",
       "50%        2.970000      0.980000    118.000000  \n",
       "75%        9.150000      3.350000    208.000000  \n",
       "max      454.850000    170.370000   2049.000000  "
      ]
     },
     "execution_count": 8,
     "metadata": {},
     "output_type": "execute_result"
    }
   ],
   "source": [
    "city_day_df.describe()"
   ]
  },
  {
   "cell_type": "code",
   "execution_count": 9,
   "metadata": {},
   "outputs": [],
   "source": [
    "# A function to categorize the status of AQI_Bucket column and handle the missing value\n",
    "\n",
    "def aqi_bucket_status(df):\n",
    "    if df['AQI'] < 51.0:\n",
    "        return 'Good'\n",
    "    elif 50.0<df['AQI']<101.0:\n",
    "        return 'Satisfactory'\n",
    "    elif 100.0<df['AQI']<201.0:\n",
    "        return 'Moderate'\n",
    "    elif 200.0<df['AQI']<301.0:\n",
    "        return 'Poor'\n",
    "    elif 300.0<df['AQI']<401.0:\n",
    "        return 'Very Poor'\n",
    "    else:\n",
    "        return 'Severe'\n",
    "\n",
    "city_day_df['AQI_Bucket'] = city_day_df.apply(aqi_bucket_status, axis=1)"
   ]
  },
  {
   "cell_type": "code",
   "execution_count": 10,
   "metadata": {},
   "outputs": [
    {
     "data": {
      "text/html": [
       "<div>\n",
       "<style scoped>\n",
       "    .dataframe tbody tr th:only-of-type {\n",
       "        vertical-align: middle;\n",
       "    }\n",
       "\n",
       "    .dataframe tbody tr th {\n",
       "        vertical-align: top;\n",
       "    }\n",
       "\n",
       "    .dataframe thead th {\n",
       "        text-align: right;\n",
       "    }\n",
       "</style>\n",
       "<table border=\"1\" class=\"dataframe\">\n",
       "  <thead>\n",
       "    <tr style=\"text-align: right;\">\n",
       "      <th></th>\n",
       "      <th>City</th>\n",
       "      <th>Date</th>\n",
       "      <th>PM2.5</th>\n",
       "      <th>PM10</th>\n",
       "      <th>NO</th>\n",
       "      <th>NO2</th>\n",
       "      <th>NOx</th>\n",
       "      <th>NH3</th>\n",
       "      <th>CO</th>\n",
       "      <th>SO2</th>\n",
       "      <th>O3</th>\n",
       "      <th>Benzene</th>\n",
       "      <th>Toluene</th>\n",
       "      <th>Xylene</th>\n",
       "      <th>AQI</th>\n",
       "      <th>AQI_Bucket</th>\n",
       "    </tr>\n",
       "  </thead>\n",
       "  <tbody>\n",
       "    <tr>\n",
       "      <th>10801</th>\n",
       "      <td>Delhi</td>\n",
       "      <td>2016-07-26</td>\n",
       "      <td>54.50</td>\n",
       "      <td>95.08</td>\n",
       "      <td>11.64</td>\n",
       "      <td>40.48</td>\n",
       "      <td>50.72</td>\n",
       "      <td>48.60</td>\n",
       "      <td>1.08</td>\n",
       "      <td>8.20</td>\n",
       "      <td>52.30</td>\n",
       "      <td>2.91</td>\n",
       "      <td>10.16</td>\n",
       "      <td>NaN</td>\n",
       "      <td>163.0</td>\n",
       "      <td>Moderate</td>\n",
       "    </tr>\n",
       "    <tr>\n",
       "      <th>18458</th>\n",
       "      <td>Jorapokhar</td>\n",
       "      <td>2019-05-17</td>\n",
       "      <td>NaN</td>\n",
       "      <td>94.92</td>\n",
       "      <td>7.98</td>\n",
       "      <td>7.79</td>\n",
       "      <td>NaN</td>\n",
       "      <td>6.58</td>\n",
       "      <td>3.52</td>\n",
       "      <td>NaN</td>\n",
       "      <td>17.74</td>\n",
       "      <td>NaN</td>\n",
       "      <td>NaN</td>\n",
       "      <td>NaN</td>\n",
       "      <td>NaN</td>\n",
       "      <td>Severe</td>\n",
       "    </tr>\n",
       "    <tr>\n",
       "      <th>23329</th>\n",
       "      <td>Mumbai</td>\n",
       "      <td>2019-01-14</td>\n",
       "      <td>66.32</td>\n",
       "      <td>191.30</td>\n",
       "      <td>37.01</td>\n",
       "      <td>44.04</td>\n",
       "      <td>81.05</td>\n",
       "      <td>NaN</td>\n",
       "      <td>2.37</td>\n",
       "      <td>25.59</td>\n",
       "      <td>72.08</td>\n",
       "      <td>1.57</td>\n",
       "      <td>NaN</td>\n",
       "      <td>NaN</td>\n",
       "      <td>163.0</td>\n",
       "      <td>Moderate</td>\n",
       "    </tr>\n",
       "    <tr>\n",
       "      <th>20327</th>\n",
       "      <td>Lucknow</td>\n",
       "      <td>2016-04-26</td>\n",
       "      <td>99.92</td>\n",
       "      <td>NaN</td>\n",
       "      <td>5.89</td>\n",
       "      <td>49.62</td>\n",
       "      <td>4.22</td>\n",
       "      <td>NaN</td>\n",
       "      <td>3.74</td>\n",
       "      <td>5.51</td>\n",
       "      <td>75.72</td>\n",
       "      <td>1.10</td>\n",
       "      <td>0.96</td>\n",
       "      <td>NaN</td>\n",
       "      <td>240.0</td>\n",
       "      <td>Poor</td>\n",
       "    </tr>\n",
       "    <tr>\n",
       "      <th>13790</th>\n",
       "      <td>Gurugram</td>\n",
       "      <td>2019-09-17</td>\n",
       "      <td>58.53</td>\n",
       "      <td>124.72</td>\n",
       "      <td>6.18</td>\n",
       "      <td>7.66</td>\n",
       "      <td>13.37</td>\n",
       "      <td>NaN</td>\n",
       "      <td>1.77</td>\n",
       "      <td>10.49</td>\n",
       "      <td>38.11</td>\n",
       "      <td>2.01</td>\n",
       "      <td>6.04</td>\n",
       "      <td>NaN</td>\n",
       "      <td>112.0</td>\n",
       "      <td>Moderate</td>\n",
       "    </tr>\n",
       "    <tr>\n",
       "      <th>9234</th>\n",
       "      <td>Chennai</td>\n",
       "      <td>2018-11-01</td>\n",
       "      <td>27.63</td>\n",
       "      <td>NaN</td>\n",
       "      <td>13.25</td>\n",
       "      <td>17.66</td>\n",
       "      <td>30.91</td>\n",
       "      <td>99.75</td>\n",
       "      <td>1.09</td>\n",
       "      <td>7.29</td>\n",
       "      <td>13.71</td>\n",
       "      <td>0.37</td>\n",
       "      <td>1.48</td>\n",
       "      <td>NaN</td>\n",
       "      <td>83.0</td>\n",
       "      <td>Satisfactory</td>\n",
       "    </tr>\n",
       "    <tr>\n",
       "      <th>14541</th>\n",
       "      <td>Guwahati</td>\n",
       "      <td>2020-05-23</td>\n",
       "      <td>13.18</td>\n",
       "      <td>22.34</td>\n",
       "      <td>1.46</td>\n",
       "      <td>6.80</td>\n",
       "      <td>4.40</td>\n",
       "      <td>1.34</td>\n",
       "      <td>0.38</td>\n",
       "      <td>14.73</td>\n",
       "      <td>24.65</td>\n",
       "      <td>0.00</td>\n",
       "      <td>NaN</td>\n",
       "      <td>NaN</td>\n",
       "      <td>38.0</td>\n",
       "      <td>Good</td>\n",
       "    </tr>\n",
       "    <tr>\n",
       "      <th>23312</th>\n",
       "      <td>Mumbai</td>\n",
       "      <td>2018-12-28</td>\n",
       "      <td>69.88</td>\n",
       "      <td>152.97</td>\n",
       "      <td>56.22</td>\n",
       "      <td>52.64</td>\n",
       "      <td>108.22</td>\n",
       "      <td>NaN</td>\n",
       "      <td>2.03</td>\n",
       "      <td>26.15</td>\n",
       "      <td>37.61</td>\n",
       "      <td>1.48</td>\n",
       "      <td>NaN</td>\n",
       "      <td>NaN</td>\n",
       "      <td>130.0</td>\n",
       "      <td>Moderate</td>\n",
       "    </tr>\n",
       "    <tr>\n",
       "      <th>8079</th>\n",
       "      <td>Chennai</td>\n",
       "      <td>2015-09-03</td>\n",
       "      <td>26.54</td>\n",
       "      <td>NaN</td>\n",
       "      <td>9.27</td>\n",
       "      <td>17.24</td>\n",
       "      <td>19.25</td>\n",
       "      <td>23.58</td>\n",
       "      <td>1.99</td>\n",
       "      <td>18.24</td>\n",
       "      <td>28.04</td>\n",
       "      <td>NaN</td>\n",
       "      <td>NaN</td>\n",
       "      <td>NaN</td>\n",
       "      <td>99.0</td>\n",
       "      <td>Satisfactory</td>\n",
       "    </tr>\n",
       "    <tr>\n",
       "      <th>13433</th>\n",
       "      <td>Gurugram</td>\n",
       "      <td>2018-09-25</td>\n",
       "      <td>54.14</td>\n",
       "      <td>NaN</td>\n",
       "      <td>12.54</td>\n",
       "      <td>16.72</td>\n",
       "      <td>16.16</td>\n",
       "      <td>NaN</td>\n",
       "      <td>0.72</td>\n",
       "      <td>5.84</td>\n",
       "      <td>24.72</td>\n",
       "      <td>0.56</td>\n",
       "      <td>NaN</td>\n",
       "      <td>NaN</td>\n",
       "      <td>58.0</td>\n",
       "      <td>Satisfactory</td>\n",
       "    </tr>\n",
       "  </tbody>\n",
       "</table>\n",
       "</div>"
      ],
      "text/plain": [
       "             City        Date  PM2.5    PM10     NO    NO2     NOx    NH3  \\\n",
       "10801       Delhi  2016-07-26  54.50   95.08  11.64  40.48   50.72  48.60   \n",
       "18458  Jorapokhar  2019-05-17    NaN   94.92   7.98   7.79     NaN   6.58   \n",
       "23329      Mumbai  2019-01-14  66.32  191.30  37.01  44.04   81.05    NaN   \n",
       "20327     Lucknow  2016-04-26  99.92     NaN   5.89  49.62    4.22    NaN   \n",
       "13790    Gurugram  2019-09-17  58.53  124.72   6.18   7.66   13.37    NaN   \n",
       "9234      Chennai  2018-11-01  27.63     NaN  13.25  17.66   30.91  99.75   \n",
       "14541    Guwahati  2020-05-23  13.18   22.34   1.46   6.80    4.40   1.34   \n",
       "23312      Mumbai  2018-12-28  69.88  152.97  56.22  52.64  108.22    NaN   \n",
       "8079      Chennai  2015-09-03  26.54     NaN   9.27  17.24   19.25  23.58   \n",
       "13433    Gurugram  2018-09-25  54.14     NaN  12.54  16.72   16.16    NaN   \n",
       "\n",
       "         CO    SO2     O3  Benzene  Toluene  Xylene    AQI    AQI_Bucket  \n",
       "10801  1.08   8.20  52.30     2.91    10.16     NaN  163.0      Moderate  \n",
       "18458  3.52    NaN  17.74      NaN      NaN     NaN    NaN        Severe  \n",
       "23329  2.37  25.59  72.08     1.57      NaN     NaN  163.0      Moderate  \n",
       "20327  3.74   5.51  75.72     1.10     0.96     NaN  240.0          Poor  \n",
       "13790  1.77  10.49  38.11     2.01     6.04     NaN  112.0      Moderate  \n",
       "9234   1.09   7.29  13.71     0.37     1.48     NaN   83.0  Satisfactory  \n",
       "14541  0.38  14.73  24.65     0.00      NaN     NaN   38.0          Good  \n",
       "23312  2.03  26.15  37.61     1.48      NaN     NaN  130.0      Moderate  \n",
       "8079   1.99  18.24  28.04      NaN      NaN     NaN   99.0  Satisfactory  \n",
       "13433  0.72   5.84  24.72     0.56      NaN     NaN   58.0  Satisfactory  "
      ]
     },
     "execution_count": 10,
     "metadata": {},
     "output_type": "execute_result"
    }
   ],
   "source": [
    "# See here null values of AQI_Bucket was removed by above function\n",
    "\n",
    "city_day_df.sample(10)"
   ]
  },
  {
   "cell_type": "code",
   "execution_count": 11,
   "metadata": {},
   "outputs": [],
   "source": [
    "import numpy as np\n",
    "\n",
    "# Replace all NaN values by 0\n",
    "\n",
    "city_day_not_null = city_day_df.replace(np.nan, 0)"
   ]
  },
  {
   "cell_type": "code",
   "execution_count": 12,
   "metadata": {},
   "outputs": [
    {
     "data": {
      "text/html": [
       "<div>\n",
       "<style scoped>\n",
       "    .dataframe tbody tr th:only-of-type {\n",
       "        vertical-align: middle;\n",
       "    }\n",
       "\n",
       "    .dataframe tbody tr th {\n",
       "        vertical-align: top;\n",
       "    }\n",
       "\n",
       "    .dataframe thead th {\n",
       "        text-align: right;\n",
       "    }\n",
       "</style>\n",
       "<table border=\"1\" class=\"dataframe\">\n",
       "  <thead>\n",
       "    <tr style=\"text-align: right;\">\n",
       "      <th></th>\n",
       "      <th>City</th>\n",
       "      <th>Date</th>\n",
       "      <th>PM2.5</th>\n",
       "      <th>PM10</th>\n",
       "      <th>NO</th>\n",
       "      <th>NO2</th>\n",
       "      <th>NOx</th>\n",
       "      <th>NH3</th>\n",
       "      <th>CO</th>\n",
       "      <th>SO2</th>\n",
       "      <th>O3</th>\n",
       "      <th>Benzene</th>\n",
       "      <th>Toluene</th>\n",
       "      <th>Xylene</th>\n",
       "      <th>AQI</th>\n",
       "      <th>AQI_Bucket</th>\n",
       "    </tr>\n",
       "  </thead>\n",
       "  <tbody>\n",
       "    <tr>\n",
       "      <th>15807</th>\n",
       "      <td>Hyderabad</td>\n",
       "      <td>2018-05-14</td>\n",
       "      <td>29.86</td>\n",
       "      <td>67.84</td>\n",
       "      <td>2.42</td>\n",
       "      <td>26.02</td>\n",
       "      <td>15.62</td>\n",
       "      <td>12.81</td>\n",
       "      <td>0.64</td>\n",
       "      <td>5.38</td>\n",
       "      <td>56.79</td>\n",
       "      <td>0.50</td>\n",
       "      <td>2.44</td>\n",
       "      <td>0.47</td>\n",
       "      <td>100.0</td>\n",
       "      <td>Satisfactory</td>\n",
       "    </tr>\n",
       "    <tr>\n",
       "      <th>3680</th>\n",
       "      <td>Amritsar</td>\n",
       "      <td>2018-10-27</td>\n",
       "      <td>48.55</td>\n",
       "      <td>138.69</td>\n",
       "      <td>31.37</td>\n",
       "      <td>26.26</td>\n",
       "      <td>58.63</td>\n",
       "      <td>15.68</td>\n",
       "      <td>0.00</td>\n",
       "      <td>5.78</td>\n",
       "      <td>25.03</td>\n",
       "      <td>10.51</td>\n",
       "      <td>2.57</td>\n",
       "      <td>11.77</td>\n",
       "      <td>124.0</td>\n",
       "      <td>Moderate</td>\n",
       "    </tr>\n",
       "    <tr>\n",
       "      <th>260</th>\n",
       "      <td>Ahmedabad</td>\n",
       "      <td>2015-09-18</td>\n",
       "      <td>36.33</td>\n",
       "      <td>0.00</td>\n",
       "      <td>7.68</td>\n",
       "      <td>12.88</td>\n",
       "      <td>20.56</td>\n",
       "      <td>0.00</td>\n",
       "      <td>7.68</td>\n",
       "      <td>8.28</td>\n",
       "      <td>43.35</td>\n",
       "      <td>0.00</td>\n",
       "      <td>4.29</td>\n",
       "      <td>0.36</td>\n",
       "      <td>195.0</td>\n",
       "      <td>Moderate</td>\n",
       "    </tr>\n",
       "    <tr>\n",
       "      <th>27529</th>\n",
       "      <td>Thiruvananthapuram</td>\n",
       "      <td>2019-01-09</td>\n",
       "      <td>65.74</td>\n",
       "      <td>104.01</td>\n",
       "      <td>2.58</td>\n",
       "      <td>6.56</td>\n",
       "      <td>5.59</td>\n",
       "      <td>6.99</td>\n",
       "      <td>0.03</td>\n",
       "      <td>23.45</td>\n",
       "      <td>76.67</td>\n",
       "      <td>0.00</td>\n",
       "      <td>0.00</td>\n",
       "      <td>0.00</td>\n",
       "      <td>137.0</td>\n",
       "      <td>Moderate</td>\n",
       "    </tr>\n",
       "    <tr>\n",
       "      <th>20909</th>\n",
       "      <td>Lucknow</td>\n",
       "      <td>2017-11-29</td>\n",
       "      <td>236.79</td>\n",
       "      <td>0.00</td>\n",
       "      <td>101.11</td>\n",
       "      <td>92.62</td>\n",
       "      <td>130.14</td>\n",
       "      <td>96.77</td>\n",
       "      <td>2.29</td>\n",
       "      <td>10.96</td>\n",
       "      <td>34.01</td>\n",
       "      <td>1.34</td>\n",
       "      <td>2.98</td>\n",
       "      <td>0.00</td>\n",
       "      <td>364.0</td>\n",
       "      <td>Very Poor</td>\n",
       "    </tr>\n",
       "    <tr>\n",
       "      <th>29325</th>\n",
       "      <td>Visakhapatnam</td>\n",
       "      <td>2019-12-09</td>\n",
       "      <td>12.79</td>\n",
       "      <td>48.71</td>\n",
       "      <td>6.63</td>\n",
       "      <td>30.60</td>\n",
       "      <td>21.67</td>\n",
       "      <td>6.12</td>\n",
       "      <td>0.91</td>\n",
       "      <td>9.02</td>\n",
       "      <td>42.00</td>\n",
       "      <td>3.15</td>\n",
       "      <td>7.48</td>\n",
       "      <td>1.61</td>\n",
       "      <td>63.0</td>\n",
       "      <td>Satisfactory</td>\n",
       "    </tr>\n",
       "    <tr>\n",
       "      <th>15595</th>\n",
       "      <td>Hyderabad</td>\n",
       "      <td>2017-10-14</td>\n",
       "      <td>33.32</td>\n",
       "      <td>60.37</td>\n",
       "      <td>10.84</td>\n",
       "      <td>25.10</td>\n",
       "      <td>3.74</td>\n",
       "      <td>12.38</td>\n",
       "      <td>0.10</td>\n",
       "      <td>2.46</td>\n",
       "      <td>63.15</td>\n",
       "      <td>0.17</td>\n",
       "      <td>1.48</td>\n",
       "      <td>0.00</td>\n",
       "      <td>123.0</td>\n",
       "      <td>Moderate</td>\n",
       "    </tr>\n",
       "    <tr>\n",
       "      <th>25462</th>\n",
       "      <td>Patna</td>\n",
       "      <td>2019-10-16</td>\n",
       "      <td>107.92</td>\n",
       "      <td>0.00</td>\n",
       "      <td>26.33</td>\n",
       "      <td>24.57</td>\n",
       "      <td>22.33</td>\n",
       "      <td>0.00</td>\n",
       "      <td>3.29</td>\n",
       "      <td>58.25</td>\n",
       "      <td>31.98</td>\n",
       "      <td>0.00</td>\n",
       "      <td>0.00</td>\n",
       "      <td>0.00</td>\n",
       "      <td>225.0</td>\n",
       "      <td>Poor</td>\n",
       "    </tr>\n",
       "    <tr>\n",
       "      <th>3631</th>\n",
       "      <td>Amritsar</td>\n",
       "      <td>2018-09-08</td>\n",
       "      <td>0.00</td>\n",
       "      <td>24.89</td>\n",
       "      <td>10.26</td>\n",
       "      <td>7.84</td>\n",
       "      <td>18.10</td>\n",
       "      <td>4.47</td>\n",
       "      <td>0.00</td>\n",
       "      <td>3.13</td>\n",
       "      <td>22.58</td>\n",
       "      <td>5.02</td>\n",
       "      <td>7.59</td>\n",
       "      <td>8.23</td>\n",
       "      <td>40.0</td>\n",
       "      <td>Good</td>\n",
       "    </tr>\n",
       "    <tr>\n",
       "      <th>23348</th>\n",
       "      <td>Mumbai</td>\n",
       "      <td>2019-02-02</td>\n",
       "      <td>50.63</td>\n",
       "      <td>184.82</td>\n",
       "      <td>0.00</td>\n",
       "      <td>0.00</td>\n",
       "      <td>0.00</td>\n",
       "      <td>0.00</td>\n",
       "      <td>2.27</td>\n",
       "      <td>17.97</td>\n",
       "      <td>59.69</td>\n",
       "      <td>1.88</td>\n",
       "      <td>0.00</td>\n",
       "      <td>0.00</td>\n",
       "      <td>152.0</td>\n",
       "      <td>Moderate</td>\n",
       "    </tr>\n",
       "  </tbody>\n",
       "</table>\n",
       "</div>"
      ],
      "text/plain": [
       "                     City        Date   PM2.5    PM10      NO    NO2     NOx  \\\n",
       "15807           Hyderabad  2018-05-14   29.86   67.84    2.42  26.02   15.62   \n",
       "3680             Amritsar  2018-10-27   48.55  138.69   31.37  26.26   58.63   \n",
       "260             Ahmedabad  2015-09-18   36.33    0.00    7.68  12.88   20.56   \n",
       "27529  Thiruvananthapuram  2019-01-09   65.74  104.01    2.58   6.56    5.59   \n",
       "20909             Lucknow  2017-11-29  236.79    0.00  101.11  92.62  130.14   \n",
       "29325       Visakhapatnam  2019-12-09   12.79   48.71    6.63  30.60   21.67   \n",
       "15595           Hyderabad  2017-10-14   33.32   60.37   10.84  25.10    3.74   \n",
       "25462               Patna  2019-10-16  107.92    0.00   26.33  24.57   22.33   \n",
       "3631             Amritsar  2018-09-08    0.00   24.89   10.26   7.84   18.10   \n",
       "23348              Mumbai  2019-02-02   50.63  184.82    0.00   0.00    0.00   \n",
       "\n",
       "         NH3    CO    SO2     O3  Benzene  Toluene  Xylene    AQI  \\\n",
       "15807  12.81  0.64   5.38  56.79     0.50     2.44    0.47  100.0   \n",
       "3680   15.68  0.00   5.78  25.03    10.51     2.57   11.77  124.0   \n",
       "260     0.00  7.68   8.28  43.35     0.00     4.29    0.36  195.0   \n",
       "27529   6.99  0.03  23.45  76.67     0.00     0.00    0.00  137.0   \n",
       "20909  96.77  2.29  10.96  34.01     1.34     2.98    0.00  364.0   \n",
       "29325   6.12  0.91   9.02  42.00     3.15     7.48    1.61   63.0   \n",
       "15595  12.38  0.10   2.46  63.15     0.17     1.48    0.00  123.0   \n",
       "25462   0.00  3.29  58.25  31.98     0.00     0.00    0.00  225.0   \n",
       "3631    4.47  0.00   3.13  22.58     5.02     7.59    8.23   40.0   \n",
       "23348   0.00  2.27  17.97  59.69     1.88     0.00    0.00  152.0   \n",
       "\n",
       "         AQI_Bucket  \n",
       "15807  Satisfactory  \n",
       "3680       Moderate  \n",
       "260        Moderate  \n",
       "27529      Moderate  \n",
       "20909     Very Poor  \n",
       "29325  Satisfactory  \n",
       "15595      Moderate  \n",
       "25462          Poor  \n",
       "3631           Good  \n",
       "23348      Moderate  "
      ]
     },
     "execution_count": 12,
     "metadata": {},
     "output_type": "execute_result"
    }
   ],
   "source": [
    "# Here as random sample, we can see no null value present\n",
    "\n",
    "city_day_not_null.sample(10)"
   ]
  },
  {
   "cell_type": "code",
   "execution_count": 13,
   "metadata": {},
   "outputs": [
    {
     "data": {
      "text/html": [
       "<style  type=\"text/css\" >\n",
       "</style><table id=\"T_3cfda_\" ><thead>    <tr>        <th class=\"blank level0\" ></th>        <th class=\"col_heading level0 col0\" >No of missing values</th>        <th class=\"col_heading level0 col1\" >% of missing values</th>    </tr></thead><tbody>\n",
       "        </tbody></table>"
      ],
      "text/plain": [
       "<pandas.io.formats.style.Styler at 0x23c7ea11b20>"
      ]
     },
     "execution_count": 13,
     "metadata": {},
     "output_type": "execute_result"
    }
   ],
   "source": [
    "# Remember, we created a function missing_value_table, now we use that function to see still any null values exist or not\n",
    "\n",
    "missing_value_table(city_day_not_null)"
   ]
  },
  {
   "cell_type": "markdown",
   "metadata": {},
   "source": [
    "### See above, here is no NaN value now. Perfect !!"
   ]
  },
  {
   "cell_type": "code",
   "execution_count": 40,
   "metadata": {},
   "outputs": [],
   "source": [
    "import jovian"
   ]
  },
  {
   "cell_type": "code",
   "execution_count": 41,
   "metadata": {},
   "outputs": [
    {
     "data": {
      "application/javascript": [
       "window.require && require([\"base/js/namespace\"],function(Jupyter){Jupyter.notebook.save_checkpoint()})"
      ],
      "text/plain": [
       "<IPython.core.display.Javascript object>"
      ]
     },
     "metadata": {},
     "output_type": "display_data"
    },
    {
     "name": "stdout",
     "output_type": "stream",
     "text": [
      "[jovian] Attempting to save notebook..\u001b[0m\n",
      "[jovian] Updating notebook \"akashreveluv/zero-to-pandas-project\" on https://jovian.ai\u001b[0m\n",
      "[jovian] Uploading notebook..\u001b[0m\n",
      "[jovian] Uploading additional files...\u001b[0m\n",
      "[jovian] Committed successfully! https://jovian.ai/akashreveluv/zero-to-pandas-project\u001b[0m\n"
     ]
    },
    {
     "data": {
      "text/plain": [
       "'https://jovian.ai/akashreveluv/zero-to-pandas-project'"
      ]
     },
     "execution_count": 41,
     "metadata": {},
     "output_type": "execute_result"
    }
   ],
   "source": [
    "jovian.commit(project=project_name)"
   ]
  },
  {
   "cell_type": "markdown",
   "metadata": {},
   "source": [
    "## Exploratory Analysis and Visualization\n",
    "\n",
    "#### We will use various plots or chart for better viewing experience and understanding the data"
   ]
  },
  {
   "cell_type": "markdown",
   "metadata": {},
   "source": [
    "Let's begin by importing`matplotlib.pyplot` and `seaborn`."
   ]
  },
  {
   "cell_type": "code",
   "execution_count": 14,
   "metadata": {},
   "outputs": [],
   "source": [
    "import seaborn as sns\n",
    "import matplotlib\n",
    "import matplotlib.pyplot as plt\n",
    "%matplotlib inline\n",
    "\n",
    "sns.set_style('darkgrid')\n",
    "matplotlib.rcParams['font.size'] = 14\n",
    "matplotlib.rcParams['figure.figsize'] = (9, 5)\n",
    "matplotlib.rcParams['figure.facecolor'] = '#00000000'"
   ]
  },
  {
   "cell_type": "markdown",
   "metadata": {},
   "source": [
    "**Vizualization 1** - Here we will see which city is most polluted in 5 years span"
   ]
  },
  {
   "cell_type": "code",
   "execution_count": 15,
   "metadata": {},
   "outputs": [
    {
     "data": {
      "image/png": "[encoded data removed]",
      "text/plain": [
       "<Figure size 576x576 with 1 Axes>"
      ]
     },
     "metadata": {
      "needs_background": "light"
     },
     "output_type": "display_data"
    }
   ],
   "source": [
    "city_day_df[['City','AQI']].groupby('City').mean().sort_values('AQI').plot(kind='barh',cmap='viridis',figsize=(8,8))\n",
    "plt.title('Average AQI in last 5 years');"
   ]
  },
  {
   "cell_type": "markdown",
   "metadata": {},
   "source": [
    "##### We can observe above that, top 5 most polluted cities in India are: Ahmedabad, Delhi, Lucknow, Gurugram & Patna"
   ]
  },
  {
   "cell_type": "markdown",
   "metadata": {},
   "source": [
    "**Vizualization 2** - Here we will see correlation among pollutants and gases"
   ]
  },
  {
   "cell_type": "code",
   "execution_count": 16,
   "metadata": {},
   "outputs": [],
   "source": [
    "# We take a copy of our real dataset into city_day variable\n",
    "\n",
    "city_day = city_day_not_null.copy()"
   ]
  },
  {
   "cell_type": "code",
   "execution_count": 17,
   "metadata": {},
   "outputs": [],
   "source": [
    "# We know as per chemistry, BTX = Benzene + Toluene + Xylene. So we make new column BTX and aggregate Benzene, Toluene & Xylene.\n",
    "\n",
    "city_day['BTX'] = city_day_not_null['Benzene'] + city_day_not_null['Toluene'] + city_day_not_null['Xylene']"
   ]
  },
  {
   "cell_type": "code",
   "execution_count": 18,
   "metadata": {},
   "outputs": [],
   "source": [
    "# Two types of Particulate Matter in dataset. We will aggregate those and make new column Particulate_Matter\n",
    "\n",
    "city_day['Particulate_Matter'] = city_day_not_null['PM2.5'] + city_day_not_null['PM10']"
   ]
  },
  {
   "cell_type": "code",
   "execution_count": 19,
   "metadata": {},
   "outputs": [],
   "source": [
    "# We know as per chemistry that, NO - NO2 - NOx are Nitrogen Oxides. \n",
    "# Here we will aggregate those and make new column Nitrogen Oxides.\n",
    "\n",
    "city_day['Nitrogen Oxides'] = city_day_not_null['NO'] + city_day_not_null['NO2'] + city_day_not_null['NOx']"
   ]
  },
  {
   "cell_type": "code",
   "execution_count": 20,
   "metadata": {},
   "outputs": [],
   "source": [
    "# We already make new columns as per our needs. So we will drop the below columns from copy dataframe, \n",
    "# which not affected real one.\n",
    "\n",
    "city_day.drop(['Benzene','Toluene','Xylene','PM2.5','PM10','NO','NO2','NOx'],axis=1,inplace=True)"
   ]
  },
  {
   "cell_type": "code",
   "execution_count": 21,
   "metadata": {},
   "outputs": [
    {
     "data": {
      "text/html": [
       "<div>\n",
       "<style scoped>\n",
       "    .dataframe tbody tr th:only-of-type {\n",
       "        vertical-align: middle;\n",
       "    }\n",
       "\n",
       "    .dataframe tbody tr th {\n",
       "        vertical-align: top;\n",
       "    }\n",
       "\n",
       "    .dataframe thead th {\n",
       "        text-align: right;\n",
       "    }\n",
       "</style>\n",
       "<table border=\"1\" class=\"dataframe\">\n",
       "  <thead>\n",
       "    <tr style=\"text-align: right;\">\n",
       "      <th></th>\n",
       "      <th>City</th>\n",
       "      <th>Date</th>\n",
       "      <th>NH3</th>\n",
       "      <th>CO</th>\n",
       "      <th>SO2</th>\n",
       "      <th>O3</th>\n",
       "      <th>AQI</th>\n",
       "      <th>AQI_Bucket</th>\n",
       "      <th>BTX</th>\n",
       "      <th>Particulate_Matter</th>\n",
       "      <th>Nitrogen Oxides</th>\n",
       "    </tr>\n",
       "  </thead>\n",
       "  <tbody>\n",
       "    <tr>\n",
       "      <th>4079</th>\n",
       "      <td>Amritsar</td>\n",
       "      <td>2019-11-30</td>\n",
       "      <td>5.02</td>\n",
       "      <td>0.64</td>\n",
       "      <td>8.22</td>\n",
       "      <td>19.66</td>\n",
       "      <td>60.0</td>\n",
       "      <td>Satisfactory</td>\n",
       "      <td>6.76</td>\n",
       "      <td>111.48</td>\n",
       "      <td>39.27</td>\n",
       "    </tr>\n",
       "    <tr>\n",
       "      <th>856</th>\n",
       "      <td>Ahmedabad</td>\n",
       "      <td>2017-05-06</td>\n",
       "      <td>0.00</td>\n",
       "      <td>0.00</td>\n",
       "      <td>0.00</td>\n",
       "      <td>0.00</td>\n",
       "      <td>0.0</td>\n",
       "      <td>Severe</td>\n",
       "      <td>0.00</td>\n",
       "      <td>0.00</td>\n",
       "      <td>0.00</td>\n",
       "    </tr>\n",
       "    <tr>\n",
       "      <th>24439</th>\n",
       "      <td>Patna</td>\n",
       "      <td>2016-12-27</td>\n",
       "      <td>0.00</td>\n",
       "      <td>1.53</td>\n",
       "      <td>0.88</td>\n",
       "      <td>1.95</td>\n",
       "      <td>378.0</td>\n",
       "      <td>Very Poor</td>\n",
       "      <td>1.04</td>\n",
       "      <td>179.13</td>\n",
       "      <td>53.57</td>\n",
       "    </tr>\n",
       "    <tr>\n",
       "      <th>3674</th>\n",
       "      <td>Amritsar</td>\n",
       "      <td>2018-10-21</td>\n",
       "      <td>17.11</td>\n",
       "      <td>0.01</td>\n",
       "      <td>5.58</td>\n",
       "      <td>18.68</td>\n",
       "      <td>115.0</td>\n",
       "      <td>Moderate</td>\n",
       "      <td>27.22</td>\n",
       "      <td>185.93</td>\n",
       "      <td>94.40</td>\n",
       "    </tr>\n",
       "    <tr>\n",
       "      <th>6279</th>\n",
       "      <td>Bengaluru</td>\n",
       "      <td>2020-06-08</td>\n",
       "      <td>5.22</td>\n",
       "      <td>0.65</td>\n",
       "      <td>6.88</td>\n",
       "      <td>16.90</td>\n",
       "      <td>55.0</td>\n",
       "      <td>Satisfactory</td>\n",
       "      <td>3.39</td>\n",
       "      <td>69.01</td>\n",
       "      <td>35.38</td>\n",
       "    </tr>\n",
       "  </tbody>\n",
       "</table>\n",
       "</div>"
      ],
      "text/plain": [
       "            City        Date    NH3    CO   SO2     O3    AQI    AQI_Bucket  \\\n",
       "4079    Amritsar  2019-11-30   5.02  0.64  8.22  19.66   60.0  Satisfactory   \n",
       "856    Ahmedabad  2017-05-06   0.00  0.00  0.00   0.00    0.0        Severe   \n",
       "24439      Patna  2016-12-27   0.00  1.53  0.88   1.95  378.0     Very Poor   \n",
       "3674    Amritsar  2018-10-21  17.11  0.01  5.58  18.68  115.0      Moderate   \n",
       "6279   Bengaluru  2020-06-08   5.22  0.65  6.88  16.90   55.0  Satisfactory   \n",
       "\n",
       "         BTX  Particulate_Matter  Nitrogen Oxides  \n",
       "4079    6.76              111.48            39.27  \n",
       "856     0.00                0.00             0.00  \n",
       "24439   1.04              179.13            53.57  \n",
       "3674   27.22              185.93            94.40  \n",
       "6279    3.39               69.01            35.38  "
      ]
     },
     "execution_count": 21,
     "metadata": {},
     "output_type": "execute_result"
    }
   ],
   "source": [
    "# Here we can see the 3 newly created columns\n",
    "\n",
    "city_day.sample(5)"
   ]
  },
  {
   "cell_type": "code",
   "execution_count": 22,
   "metadata": {},
   "outputs": [
    {
     "data": {
      "image/png": "[encoded data removed]",
      "text/plain": [
       "<Figure size 864x576 with 2 Axes>"
      ]
     },
     "metadata": {
      "needs_background": "light"
     },
     "output_type": "display_data"
    }
   ],
   "source": [
    "# Here is heatmap to show the correlation\n",
    "\n",
    "plt.figure(figsize=(12,8))\n",
    "sns.heatmap(city_day.corr(),cmap='RdBu',annot=True);"
   ]
  },
  {
   "cell_type": "markdown",
   "metadata": {},
   "source": [
    "**Vizualization 3** - Here we will see various gases and pollutants distribution in air"
   ]
  },
  {
   "cell_type": "code",
   "execution_count": 23,
   "metadata": {},
   "outputs": [
    {
     "data": {
      "image/png": "[encoded data removed]",
      "text/plain": [
       "<Figure size 1440x1872 with 11 Axes>"
      ]
     },
     "metadata": {
      "needs_background": "light"
     },
     "output_type": "display_data"
    }
   ],
   "source": [
    "# Distribuiton of various gases and particulate in air\n",
    "\n",
    "cols = ['PM2.5','PM10','NO2','NOx','NH3',\n",
    "       'CO','SO2','O3','Benzene','Toluene','Xylene']\n",
    "\n",
    "fig = plt.figure(figsize=(20, 26))\n",
    "\n",
    "for i,col in enumerate(cols):\n",
    "    fig.add_subplot(6, 2, i+1)\n",
    "    plt.hist(city_day_not_null[col], bins=20, edgecolor='blue', density=True)\n",
    "    plt.xlabel(col)\n",
    "    plt.ylabel('Count')"
   ]
  },
  {
   "cell_type": "markdown",
   "metadata": {},
   "source": [
    "**Vizualization 4** - Here we will see AQI Bucket status counts"
   ]
  },
  {
   "cell_type": "code",
   "execution_count": 24,
   "metadata": {},
   "outputs": [
    {
     "data": {
      "image/png": "[encoded data removed]",
      "text/plain": [
       "<Figure size 648x360 with 1 Axes>"
      ]
     },
     "metadata": {
      "needs_background": "light"
     },
     "output_type": "display_data"
    }
   ],
   "source": [
    "aqi = city_day['AQI_Bucket']\n",
    "sns.countplot(x=aqi, data=city_day)\n",
    "plt.show();"
   ]
  },
  {
   "cell_type": "markdown",
   "metadata": {},
   "source": [
    "##### We can observe that the top 3 are: Moderate, Satisfactory & Severe. Very less number of Good. "
   ]
  },
  {
   "cell_type": "markdown",
   "metadata": {},
   "source": [
    "Let us save and upload our work to Jovian before continuing"
   ]
  },
  {
   "cell_type": "code",
   "execution_count": 86,
   "metadata": {},
   "outputs": [],
   "source": [
    "import jovian"
   ]
  },
  {
   "cell_type": "code",
   "execution_count": 87,
   "metadata": {},
   "outputs": [
    {
     "data": {
      "application/javascript": [
       "window.require && require([\"base/js/namespace\"],function(Jupyter){Jupyter.notebook.save_checkpoint()})"
      ],
      "text/plain": [
       "<IPython.core.display.Javascript object>"
      ]
     },
     "metadata": {},
     "output_type": "display_data"
    },
    {
     "name": "stdout",
     "output_type": "stream",
     "text": [
      "[jovian] Attempting to save notebook..\u001b[0m\n",
      "[jovian] Updating notebook \"akashreveluv/zero-to-pandas-project\" on https://jovian.ai\u001b[0m\n",
      "[jovian] Uploading notebook..\u001b[0m\n",
      "[jovian] Uploading additional files...\u001b[0m\n",
      "[jovian] Committed successfully! https://jovian.ai/akashreveluv/zero-to-pandas-project\u001b[0m\n"
     ]
    },
    {
     "data": {
      "text/plain": [
       "'https://jovian.ai/akashreveluv/zero-to-pandas-project'"
      ]
     },
     "execution_count": 87,
     "metadata": {},
     "output_type": "execute_result"
    }
   ],
   "source": [
    "jovian.commit(project=project_name)"
   ]
  },
  {
   "cell_type": "markdown",
   "metadata": {},
   "source": [
    "## Asking and Answering Questions\n",
    "\n",
    "**Trying to answer some questions regarding to dataset**\n",
    "\n"
   ]
  },
  {
   "cell_type": "markdown",
   "metadata": {},
   "source": [
    "#### Q1: What are the skewness among pllutants and gases ?"
   ]
  },
  {
   "cell_type": "code",
   "execution_count": 37,
   "metadata": {},
   "outputs": [
    {
     "data": {
      "image/png": "[encoded data removed]",
      "text/plain": [
       "<Figure size 720x432 with 1 Axes>"
      ]
     },
     "metadata": {
      "needs_background": "light"
     },
     "output_type": "display_data"
    }
   ],
   "source": [
    "# Analyzing skewness in data, Let see...\n",
    "\n",
    "skew = pd.DataFrame(city_day_not_null.skew().sort_values(ascending=False))\n",
    "skew.columns = ['Skewness']\n",
    "\n",
    "plt.figure(figsize=(10, 6))\n",
    "plt.xticks(rotation=75)\n",
    "sns.barplot(x=skew.index,y='Skewness',data=skew,\n",
    "            edgecolor='black',\n",
    "            linewidth=0.2,\n",
    "            palette='coolwarm')\n",
    "plt.xlabel('Features');"
   ]
  },
  {
   "cell_type": "markdown",
   "metadata": {},
   "source": [
    "##### We observed that, Benzene has most skewness"
   ]
  },
  {
   "cell_type": "markdown",
   "metadata": {},
   "source": [
    "#### Q2: Which gases or pollutants have strong correlation ?\n",
    "\n",
    "From above heatmap we observe a strong correlation of NO with NOx and of Benzene with Toluene. So lets visualize them with the help of scatterplots."
   ]
  },
  {
   "cell_type": "code",
   "execution_count": 27,
   "metadata": {},
   "outputs": [
    {
     "data": {
      "image/png": "[encoded data removed]",
      "text/plain": [
       "<Figure size 720x432 with 1 Axes>"
      ]
     },
     "metadata": {
      "needs_background": "light"
     },
     "output_type": "display_data"
    }
   ],
   "source": [
    "plt.figure(figsize=(10, 6))\n",
    "sns.scatterplot(x='NO', y='NOx', data=city_day_not_null, s=32, color='red')\n",
    "plt.show()"
   ]
  },
  {
   "cell_type": "code",
   "execution_count": 28,
   "metadata": {},
   "outputs": [
    {
     "data": {
      "image/png": "[encoded data removed]",
      "text/plain": [
       "<Figure size 720x432 with 1 Axes>"
      ]
     },
     "metadata": {
      "needs_background": "light"
     },
     "output_type": "display_data"
    }
   ],
   "source": [
    "plt.figure(figsize=(10, 6))\n",
    "sns.scatterplot(x='Benzene',y='Toluene',data=city_day_not_null,s=32)\n",
    "plt.show()"
   ]
  },
  {
   "cell_type": "code",
   "execution_count": null,
   "metadata": {},
   "outputs": [],
   "source": []
  },
  {
   "cell_type": "markdown",
   "metadata": {},
   "source": [
    "#### Q3: Which cities have good air quality ?"
   ]
  },
  {
   "cell_type": "code",
   "execution_count": 29,
   "metadata": {},
   "outputs": [
    {
     "data": {
      "image/png": "[encoded data removed]",
      "text/plain": [
       "<Figure size 1152x864 with 1 Axes>"
      ]
     },
     "metadata": {
      "needs_background": "light"
     },
     "output_type": "display_data"
    }
   ],
   "source": [
    "x = pd.DataFrame(city_day_df['City'][city_day_df['AQI'] < 50].value_counts().sort_values(ascending=False))\n",
    "x = x.rename(columns={'City':'Count'})\n",
    "\n",
    "plt.figure(figsize=(16, 12))\n",
    "sns.barplot(x='Count', y=x.index, data=x, palette='viridis');"
   ]
  },
  {
   "cell_type": "markdown",
   "metadata": {},
   "source": [
    "##### From above plot we infer that Amravati followed by Hyderabad have a higher count where their AQI is less than 50 ."
   ]
  },
  {
   "cell_type": "code",
   "execution_count": null,
   "metadata": {},
   "outputs": [],
   "source": []
  },
  {
   "cell_type": "markdown",
   "metadata": {},
   "source": [
    "#### Q4: Cities having worst level of each pollutants:"
   ]
  },
  {
   "cell_type": "code",
   "execution_count": 30,
   "metadata": {},
   "outputs": [],
   "source": [
    "pollutants = ['City','AQI_Bucket', 'AQI', 'Particulate_Matter', 'Nitrogen Oxides','NH3', 'CO', 'SO2', 'O3',  'BTX']"
   ]
  },
  {
   "cell_type": "code",
   "execution_count": 31,
   "metadata": {},
   "outputs": [
    {
     "name": "stdout",
     "output_type": "stream",
     "text": [
      "Cities having worst levelss of each pollutant-\n"
     ]
    },
    {
     "data": {
      "text/html": [
       "<style  type=\"text/css\" >\n",
       "#T_f2eb2_row0_col1{\n",
       "            background-color:  #67000d;\n",
       "            color:  #f1f1f1;\n",
       "        }#T_f2eb2_row1_col1{\n",
       "            background-color:  #ef3c2c;\n",
       "            color:  #f1f1f1;\n",
       "        }#T_f2eb2_row2_col1{\n",
       "            background-color:  #fedaca;\n",
       "            color:  #000000;\n",
       "        }#T_f2eb2_row3_col1{\n",
       "            background-color:  #ffece4;\n",
       "            color:  #000000;\n",
       "        }#T_f2eb2_row4_col1{\n",
       "            background-color:  #fff5f0;\n",
       "            color:  #000000;\n",
       "        }</style><table id=\"T_f2eb2_\" ><thead>    <tr>        <th class=\"blank level0\" ></th>        <th class=\"col_heading level0 col0\" >City</th>        <th class=\"col_heading level0 col1\" >AQI</th>    </tr></thead><tbody>\n",
       "                <tr>\n",
       "                        <th id=\"T_f2eb2_level0_row0\" class=\"row_heading level0 row0\" >0</th>\n",
       "                        <td id=\"T_f2eb2_row0_col0\" class=\"data row0 col0\" >Ahmedabad</td>\n",
       "                        <td id=\"T_f2eb2_row0_col1\" class=\"data row0 col1\" >300.215032</td>\n",
       "            </tr>\n",
       "            <tr>\n",
       "                        <th id=\"T_f2eb2_level0_row1\" class=\"row_heading level0 row1\" >1</th>\n",
       "                        <td id=\"T_f2eb2_row1_col0\" class=\"data row1 col0\" >Delhi</td>\n",
       "                        <td id=\"T_f2eb2_row1_col1\" class=\"data row1 col1\" >258.196117</td>\n",
       "            </tr>\n",
       "            <tr>\n",
       "                        <th id=\"T_f2eb2_level0_row2\" class=\"row_heading level0 row2\" >2</th>\n",
       "                        <td id=\"T_f2eb2_row2_col0\" class=\"data row2 col0\" >Lucknow</td>\n",
       "                        <td id=\"T_f2eb2_row2_col1\" class=\"data row2 col1\" >205.387257</td>\n",
       "            </tr>\n",
       "            <tr>\n",
       "                        <th id=\"T_f2eb2_level0_row3\" class=\"row_heading level0 row3\" >3</th>\n",
       "                        <td id=\"T_f2eb2_row3_col0\" class=\"data row3 col0\" >Gurugram</td>\n",
       "                        <td id=\"T_f2eb2_row3_col1\" class=\"data row3 col1\" >194.821322</td>\n",
       "            </tr>\n",
       "            <tr>\n",
       "                        <th id=\"T_f2eb2_level0_row4\" class=\"row_heading level0 row4\" >4</th>\n",
       "                        <td id=\"T_f2eb2_row4_col0\" class=\"data row4 col0\" >Patna</td>\n",
       "                        <td id=\"T_f2eb2_row4_col1\" class=\"data row4 col1\" >189.074812</td>\n",
       "            </tr>\n",
       "    </tbody></table>"
      ],
      "text/plain": [
       "<pandas.io.formats.style.Styler at 0x23c50e42e50>"
      ]
     },
     "metadata": {},
     "output_type": "display_data"
    },
    {
     "data": {
      "text/html": [
       "<style  type=\"text/css\" >\n",
       "#T_d4a18_row0_col1{\n",
       "            background-color:  #67000d;\n",
       "            color:  #f1f1f1;\n",
       "        }#T_d4a18_row1_col1{\n",
       "            background-color:  #fee6da;\n",
       "            color:  #000000;\n",
       "        }#T_d4a18_row2_col1{\n",
       "            background-color:  #ffeee7;\n",
       "            color:  #000000;\n",
       "        }#T_d4a18_row3_col1{\n",
       "            background-color:  #fff1ea;\n",
       "            color:  #000000;\n",
       "        }#T_d4a18_row4_col1{\n",
       "            background-color:  #fff5f0;\n",
       "            color:  #000000;\n",
       "        }</style><table id=\"T_d4a18_\" ><thead>    <tr>        <th class=\"blank level0\" ></th>        <th class=\"col_heading level0 col0\" >City</th>        <th class=\"col_heading level0 col1\" >Particulate_Matter</th>    </tr></thead><tbody>\n",
       "                <tr>\n",
       "                        <th id=\"T_d4a18_level0_row0\" class=\"row_heading level0 row0\" >0</th>\n",
       "                        <td id=\"T_d4a18_row0_col0\" class=\"data row0 col0\" >Delhi</td>\n",
       "                        <td id=\"T_d4a18_row0_col1\" class=\"data row0 col1\" >340.965709</td>\n",
       "            </tr>\n",
       "            <tr>\n",
       "                        <th id=\"T_d4a18_level0_row1\" class=\"row_heading level0 row1\" >1</th>\n",
       "                        <td id=\"T_d4a18_row1_col0\" class=\"data row1 col0\" >Gurugram</td>\n",
       "                        <td id=\"T_d4a18_row1_col1\" class=\"data row1 col1\" >190.766462</td>\n",
       "            </tr>\n",
       "            <tr>\n",
       "                        <th id=\"T_d4a18_level0_row2\" class=\"row_heading level0 row2\" >2</th>\n",
       "                        <td id=\"T_d4a18_row2_col0\" class=\"data row2 col0\" >Talcher</td>\n",
       "                        <td id=\"T_d4a18_row2_col1\" class=\"data row2 col1\" >182.884173</td>\n",
       "            </tr>\n",
       "            <tr>\n",
       "                        <th id=\"T_d4a18_level0_row3\" class=\"row_heading level0 row3\" >3</th>\n",
       "                        <td id=\"T_d4a18_row3_col0\" class=\"data row3 col0\" >Guwahati</td>\n",
       "                        <td id=\"T_d4a18_row3_col1\" class=\"data row3 col1\" >180.163466</td>\n",
       "            </tr>\n",
       "            <tr>\n",
       "                        <th id=\"T_d4a18_level0_row4\" class=\"row_heading level0 row4\" >4</th>\n",
       "                        <td id=\"T_d4a18_row4_col0\" class=\"data row4 col0\" >Jaipur</td>\n",
       "                        <td id=\"T_d4a18_row4_col1\" class=\"data row4 col1\" >175.845278</td>\n",
       "            </tr>\n",
       "    </tbody></table>"
      ],
      "text/plain": [
       "<pandas.io.formats.style.Styler at 0x23c50400370>"
      ]
     },
     "metadata": {},
     "output_type": "display_data"
    },
    {
     "data": {
      "text/html": [
       "<style  type=\"text/css\" >\n",
       "#T_354a7_row0_col1{\n",
       "            background-color:  #67000d;\n",
       "            color:  #f1f1f1;\n",
       "        }#T_354a7_row1_col1{\n",
       "            background-color:  #900a12;\n",
       "            color:  #f1f1f1;\n",
       "        }#T_354a7_row2_col1{\n",
       "            background-color:  #f14331;\n",
       "            color:  #f1f1f1;\n",
       "        }#T_354a7_row3_col1{\n",
       "            background-color:  #fdcbb6;\n",
       "            color:  #000000;\n",
       "        }#T_354a7_row4_col1{\n",
       "            background-color:  #fff5f0;\n",
       "            color:  #000000;\n",
       "        }</style><table id=\"T_354a7_\" ><thead>    <tr>        <th class=\"blank level0\" ></th>        <th class=\"col_heading level0 col0\" >City</th>        <th class=\"col_heading level0 col1\" >Nitrogen Oxides</th>    </tr></thead><tbody>\n",
       "                <tr>\n",
       "                        <th id=\"T_354a7_level0_row0\" class=\"row_heading level0 row0\" >0</th>\n",
       "                        <td id=\"T_354a7_row0_col0\" class=\"data row0 col0\" >Kochi</td>\n",
       "                        <td id=\"T_354a7_row0_col1\" class=\"data row0 col1\" >153.690617</td>\n",
       "            </tr>\n",
       "            <tr>\n",
       "                        <th id=\"T_354a7_level0_row1\" class=\"row_heading level0 row1\" >1</th>\n",
       "                        <td id=\"T_354a7_row1_col0\" class=\"data row1 col0\" >Delhi</td>\n",
       "                        <td id=\"T_354a7_row1_col1\" class=\"data row1 col1\" >148.248432</td>\n",
       "            </tr>\n",
       "            <tr>\n",
       "                        <th id=\"T_354a7_level0_row2\" class=\"row_heading level0 row2\" >2</th>\n",
       "                        <td id=\"T_354a7_row2_col0\" class=\"data row2 col0\" >Kolkata</td>\n",
       "                        <td id=\"T_354a7_row2_col1\" class=\"data row2 col1\" >128.432789</td>\n",
       "            </tr>\n",
       "            <tr>\n",
       "                        <th id=\"T_354a7_level0_row3\" class=\"row_heading level0 row3\" >3</th>\n",
       "                        <td id=\"T_354a7_row3_col0\" class=\"data row3 col0\" >Patna</td>\n",
       "                        <td id=\"T_354a7_row3_col1\" class=\"data row3 col1\" >102.666642</td>\n",
       "            </tr>\n",
       "            <tr>\n",
       "                        <th id=\"T_354a7_level0_row4\" class=\"row_heading level0 row4\" >4</th>\n",
       "                        <td id=\"T_354a7_row4_col0\" class=\"data row4 col0\" >Ahmedabad</td>\n",
       "                        <td id=\"T_354a7_row4_col1\" class=\"data row4 col1\" >90.153365</td>\n",
       "            </tr>\n",
       "    </tbody></table>"
      ],
      "text/plain": [
       "<pandas.io.formats.style.Styler at 0x23c50ff2e20>"
      ]
     },
     "metadata": {},
     "output_type": "display_data"
    },
    {
     "data": {
      "text/html": [
       "<style  type=\"text/css\" >\n",
       "#T_02dd8_row0_col1{\n",
       "            background-color:  #67000d;\n",
       "            color:  #f1f1f1;\n",
       "        }#T_02dd8_row1_col1{\n",
       "            background-color:  #dc2924;\n",
       "            color:  #f1f1f1;\n",
       "        }#T_02dd8_row2_col1{\n",
       "            background-color:  #fdd7c6;\n",
       "            color:  #000000;\n",
       "        }#T_02dd8_row3_col1{\n",
       "            background-color:  #fee9df;\n",
       "            color:  #000000;\n",
       "        }#T_02dd8_row4_col1{\n",
       "            background-color:  #fff5f0;\n",
       "            color:  #000000;\n",
       "        }</style><table id=\"T_02dd8_\" ><thead>    <tr>        <th class=\"blank level0\" ></th>        <th class=\"col_heading level0 col0\" >City</th>        <th class=\"col_heading level0 col1\" >NH3</th>    </tr></thead><tbody>\n",
       "                <tr>\n",
       "                        <th id=\"T_02dd8_level0_row0\" class=\"row_heading level0 row0\" >0</th>\n",
       "                        <td id=\"T_02dd8_row0_col0\" class=\"data row0 col0\" >Chennai</td>\n",
       "                        <td id=\"T_02dd8_row0_col1\" class=\"data row0 col1\" >48.860722</td>\n",
       "            </tr>\n",
       "            <tr>\n",
       "                        <th id=\"T_02dd8_level0_row1\" class=\"row_heading level0 row1\" >1</th>\n",
       "                        <td id=\"T_02dd8_row1_col0\" class=\"data row1 col0\" >Delhi</td>\n",
       "                        <td id=\"T_02dd8_row1_col1\" class=\"data row1 col1\" >41.809009</td>\n",
       "            </tr>\n",
       "            <tr>\n",
       "                        <th id=\"T_02dd8_level0_row2\" class=\"row_heading level0 row2\" >2</th>\n",
       "                        <td id=\"T_02dd8_row2_col0\" class=\"data row2 col0\" >Chandigarh</td>\n",
       "                        <td id=\"T_02dd8_row2_col1\" class=\"data row2 col1\" >29.764737</td>\n",
       "            </tr>\n",
       "            <tr>\n",
       "                        <th id=\"T_02dd8_level0_row3\" class=\"row_heading level0 row3\" >3</th>\n",
       "                        <td id=\"T_02dd8_row3_col0\" class=\"data row3 col0\" >Brajrajnagar</td>\n",
       "                        <td id=\"T_02dd8_row3_col1\" class=\"data row3 col1\" >27.824072</td>\n",
       "            </tr>\n",
       "            <tr>\n",
       "                        <th id=\"T_02dd8_level0_row4\" class=\"row_heading level0 row4\" >4</th>\n",
       "                        <td id=\"T_02dd8_row4_col0\" class=\"data row4 col0\" >Jaipur</td>\n",
       "                        <td id=\"T_02dd8_row4_col1\" class=\"data row4 col1\" >26.156490</td>\n",
       "            </tr>\n",
       "    </tbody></table>"
      ],
      "text/plain": [
       "<pandas.io.formats.style.Styler at 0x23c507c36a0>"
      ]
     },
     "metadata": {},
     "output_type": "display_data"
    },
    {
     "data": {
      "text/html": [
       "<style  type=\"text/css\" >\n",
       "#T_db3e7_row0_col1{\n",
       "            background-color:  #67000d;\n",
       "            color:  #f1f1f1;\n",
       "        }#T_db3e7_row1_col1{\n",
       "            background-color:  #ffefe8;\n",
       "            color:  #000000;\n",
       "        }#T_db3e7_row2_col1{\n",
       "            background-color:  #fff0e9;\n",
       "            color:  #000000;\n",
       "        }#T_db3e7_row3_col1{\n",
       "            background-color:  #fff2ec;\n",
       "            color:  #000000;\n",
       "        }#T_db3e7_row4_col1{\n",
       "            background-color:  #fff5f0;\n",
       "            color:  #000000;\n",
       "        }</style><table id=\"T_db3e7_\" ><thead>    <tr>        <th class=\"blank level0\" ></th>        <th class=\"col_heading level0 col0\" >City</th>        <th class=\"col_heading level0 col1\" >CO</th>    </tr></thead><tbody>\n",
       "                <tr>\n",
       "                        <th id=\"T_db3e7_level0_row0\" class=\"row_heading level0 row0\" >0</th>\n",
       "                        <td id=\"T_db3e7_row0_col0\" class=\"data row0 col0\" >Ahmedabad</td>\n",
       "                        <td id=\"T_db3e7_row0_col1\" class=\"data row0 col1\" >15.465789</td>\n",
       "            </tr>\n",
       "            <tr>\n",
       "                        <th id=\"T_db3e7_level0_row1\" class=\"row_heading level0 row1\" >1</th>\n",
       "                        <td id=\"T_db3e7_row1_col0\" class=\"data row1 col0\" >Lucknow</td>\n",
       "                        <td id=\"T_db3e7_row1_col1\" class=\"data row1 col1\" >2.100637</td>\n",
       "            </tr>\n",
       "            <tr>\n",
       "                        <th id=\"T_db3e7_level0_row2\" class=\"row_heading level0 row2\" >2</th>\n",
       "                        <td id=\"T_db3e7_row2_col0\" class=\"data row2 col0\" >Delhi</td>\n",
       "                        <td id=\"T_db3e7_row2_col1\" class=\"data row2 col1\" >1.976053</td>\n",
       "            </tr>\n",
       "            <tr>\n",
       "                        <th id=\"T_db3e7_level0_row3\" class=\"row_heading level0 row3\" >3</th>\n",
       "                        <td id=\"T_db3e7_row3_col0\" class=\"data row3 col0\" >Bengaluru</td>\n",
       "                        <td id=\"T_db3e7_row3_col1\" class=\"data row3 col1\" >1.828566</td>\n",
       "            </tr>\n",
       "            <tr>\n",
       "                        <th id=\"T_db3e7_level0_row4\" class=\"row_heading level0 row4\" >4</th>\n",
       "                        <td id=\"T_db3e7_row4_col0\" class=\"data row4 col0\" >Ernakulam</td>\n",
       "                        <td id=\"T_db3e7_row4_col1\" class=\"data row4 col1\" >1.587654</td>\n",
       "            </tr>\n",
       "    </tbody></table>"
      ],
      "text/plain": [
       "<pandas.io.formats.style.Styler at 0x23c508653d0>"
      ]
     },
     "metadata": {},
     "output_type": "display_data"
    },
    {
     "data": {
      "text/html": [
       "<style  type=\"text/css\" >\n",
       "#T_351c7_row0_col1{\n",
       "            background-color:  #67000d;\n",
       "            color:  #f1f1f1;\n",
       "        }#T_351c7_row1_col1{\n",
       "            background-color:  #fcad90;\n",
       "            color:  #000000;\n",
       "        }#T_351c7_row2_col1{\n",
       "            background-color:  #fcbca2;\n",
       "            color:  #000000;\n",
       "        }#T_351c7_row3_col1{\n",
       "            background-color:  #fee4d8;\n",
       "            color:  #000000;\n",
       "        }#T_351c7_row4_col1{\n",
       "            background-color:  #fff5f0;\n",
       "            color:  #000000;\n",
       "        }</style><table id=\"T_351c7_\" ><thead>    <tr>        <th class=\"blank level0\" ></th>        <th class=\"col_heading level0 col0\" >City</th>        <th class=\"col_heading level0 col1\" >SO2</th>    </tr></thead><tbody>\n",
       "                <tr>\n",
       "                        <th id=\"T_351c7_level0_row0\" class=\"row_heading level0 row0\" >0</th>\n",
       "                        <td id=\"T_351c7_row0_col0\" class=\"data row0 col0\" >Ahmedabad</td>\n",
       "                        <td id=\"T_351c7_row0_col1\" class=\"data row0 col1\" >37.651747</td>\n",
       "            </tr>\n",
       "            <tr>\n",
       "                        <th id=\"T_351c7_level0_row1\" class=\"row_heading level0 row1\" >1</th>\n",
       "                        <td id=\"T_351c7_row1_col0\" class=\"data row1 col0\" >Jorapokhar</td>\n",
       "                        <td id=\"T_351c7_row1_col1\" class=\"data row1 col1\" >23.542994</td>\n",
       "            </tr>\n",
       "            <tr>\n",
       "                        <th id=\"T_351c7_level0_row2\" class=\"row_heading level0 row2\" >2</th>\n",
       "                        <td id=\"T_351c7_row2_col0\" class=\"data row2 col0\" >Talcher</td>\n",
       "                        <td id=\"T_351c7_row2_col1\" class=\"data row2 col1\" >22.580195</td>\n",
       "            </tr>\n",
       "            <tr>\n",
       "                        <th id=\"T_351c7_level0_row3\" class=\"row_heading level0 row3\" >3</th>\n",
       "                        <td id=\"T_351c7_row3_col0\" class=\"data row3 col0\" >Patna</td>\n",
       "                        <td id=\"T_351c7_row3_col1\" class=\"data row3 col1\" >19.690544</td>\n",
       "            </tr>\n",
       "            <tr>\n",
       "                        <th id=\"T_351c7_level0_row4\" class=\"row_heading level0 row4\" >4</th>\n",
       "                        <td id=\"T_351c7_row4_col0\" class=\"data row4 col0\" >Kochi</td>\n",
       "                        <td id=\"T_351c7_row4_col1\" class=\"data row4 col1\" >17.595988</td>\n",
       "            </tr>\n",
       "    </tbody></table>"
      ],
      "text/plain": [
       "<pandas.io.formats.style.Styler at 0x23c50437220>"
      ]
     },
     "metadata": {},
     "output_type": "display_data"
    },
    {
     "data": {
      "text/html": [
       "<style  type=\"text/css\" >\n",
       "#T_58574_row0_col1{\n",
       "            background-color:  #67000d;\n",
       "            color:  #f1f1f1;\n",
       "        }#T_58574_row1_col1{\n",
       "            background-color:  #f14432;\n",
       "            color:  #f1f1f1;\n",
       "        }#T_58574_row2_col1{\n",
       "            background-color:  #fb7757;\n",
       "            color:  #000000;\n",
       "        }#T_58574_row3_col1{\n",
       "            background-color:  #fff2eb;\n",
       "            color:  #000000;\n",
       "        }#T_58574_row4_col1{\n",
       "            background-color:  #fff5f0;\n",
       "            color:  #000000;\n",
       "        }</style><table id=\"T_58574_\" ><thead>    <tr>        <th class=\"blank level0\" ></th>        <th class=\"col_heading level0 col0\" >City</th>        <th class=\"col_heading level0 col1\" >O3</th>    </tr></thead><tbody>\n",
       "                <tr>\n",
       "                        <th id=\"T_58574_level0_row0\" class=\"row_heading level0 row0\" >0</th>\n",
       "                        <td id=\"T_58574_row0_col0\" class=\"data row0 col0\" >Bhopal</td>\n",
       "                        <td id=\"T_58574_row0_col1\" class=\"data row0 col1\" >57.987163</td>\n",
       "            </tr>\n",
       "            <tr>\n",
       "                        <th id=\"T_58574_level0_row1\" class=\"row_heading level0 row1\" >1</th>\n",
       "                        <td id=\"T_58574_row1_col0\" class=\"data row1 col0\" >Delhi</td>\n",
       "                        <td id=\"T_58574_row1_col1\" class=\"data row1 col1\" >49.177675</td>\n",
       "            </tr>\n",
       "            <tr>\n",
       "                        <th id=\"T_58574_level0_row2\" class=\"row_heading level0 row2\" >2</th>\n",
       "                        <td id=\"T_58574_row2_col0\" class=\"data row2 col0\" >Jaipur</td>\n",
       "                        <td id=\"T_58574_row2_col1\" class=\"data row2 col1\" >46.086445</td>\n",
       "            </tr>\n",
       "            <tr>\n",
       "                        <th id=\"T_58574_level0_row3\" class=\"row_heading level0 row3\" >3</th>\n",
       "                        <td id=\"T_58574_row3_col0\" class=\"data row3 col0\" >Lucknow</td>\n",
       "                        <td id=\"T_58574_row3_col1\" class=\"data row3 col1\" >36.421344</td>\n",
       "            </tr>\n",
       "            <tr>\n",
       "                        <th id=\"T_58574_level0_row4\" class=\"row_heading level0 row4\" >4</th>\n",
       "                        <td id=\"T_58574_row4_col0\" class=\"data row4 col0\" >Amaravati</td>\n",
       "                        <td id=\"T_58574_row4_col1\" class=\"data row4 col1\" >35.910757</td>\n",
       "            </tr>\n",
       "    </tbody></table>"
      ],
      "text/plain": [
       "<pandas.io.formats.style.Styler at 0x23c50ae8130>"
      ]
     },
     "metadata": {},
     "output_type": "display_data"
    },
    {
     "data": {
      "text/html": [
       "<style  type=\"text/css\" >\n",
       "#T_43572_row0_col1{\n",
       "            background-color:  #67000d;\n",
       "            color:  #f1f1f1;\n",
       "        }#T_43572_row1_col1{\n",
       "            background-color:  #fdc6b0;\n",
       "            color:  #000000;\n",
       "        }#T_43572_row2_col1{\n",
       "            background-color:  #fdcbb6;\n",
       "            color:  #000000;\n",
       "        }#T_43572_row3_col1{\n",
       "            background-color:  #fee7dc;\n",
       "            color:  #000000;\n",
       "        }#T_43572_row4_col1{\n",
       "            background-color:  #fff5f0;\n",
       "            color:  #000000;\n",
       "        }</style><table id=\"T_43572_\" ><thead>    <tr>        <th class=\"blank level0\" ></th>        <th class=\"col_heading level0 col0\" >City</th>        <th class=\"col_heading level0 col1\" >BTX</th>    </tr></thead><tbody>\n",
       "                <tr>\n",
       "                        <th id=\"T_43572_level0_row0\" class=\"row_heading level0 row0\" >0</th>\n",
       "                        <td id=\"T_43572_row0_col0\" class=\"data row0 col0\" >Shillong</td>\n",
       "                        <td id=\"T_43572_row0_col1\" class=\"data row0 col1\" >68.759806</td>\n",
       "            </tr>\n",
       "            <tr>\n",
       "                        <th id=\"T_43572_level0_row1\" class=\"row_heading level0 row1\" >1</th>\n",
       "                        <td id=\"T_43572_row1_col0\" class=\"data row1 col0\" >Ahmedabad</td>\n",
       "                        <td id=\"T_43572_row1_col1\" class=\"data row1 col1\" >28.408278</td>\n",
       "            </tr>\n",
       "            <tr>\n",
       "                        <th id=\"T_43572_level0_row2\" class=\"row_heading level0 row2\" >2</th>\n",
       "                        <td id=\"T_43572_row2_col0\" class=\"data row2 col0\" >Kolkata</td>\n",
       "                        <td id=\"T_43572_row2_col1\" class=\"data row2 col1\" >27.474914</td>\n",
       "            </tr>\n",
       "            <tr>\n",
       "                        <th id=\"T_43572_level0_row3\" class=\"row_heading level0 row3\" >3</th>\n",
       "                        <td id=\"T_43572_row3_col0\" class=\"data row3 col0\" >Delhi</td>\n",
       "                        <td id=\"T_43572_row3_col1\" class=\"data row3 col1\" >21.608706</td>\n",
       "            </tr>\n",
       "            <tr>\n",
       "                        <th id=\"T_43572_level0_row4\" class=\"row_heading level0 row4\" >4</th>\n",
       "                        <td id=\"T_43572_row4_col0\" class=\"data row4 col0\" >Aizawl</td>\n",
       "                        <td id=\"T_43572_row4_col1\" class=\"data row4 col1\" >17.394248</td>\n",
       "            </tr>\n",
       "    </tbody></table>"
      ],
      "text/plain": [
       "<pandas.io.formats.style.Styler at 0x23c50778880>"
      ]
     },
     "metadata": {},
     "output_type": "display_data"
    }
   ],
   "source": [
    "# Function for calculate mean of each pollutants\n",
    "\n",
    "def max_polluted_cities(pollutant):\n",
    "    table = city_day[[pollutant,'City']].groupby([\"City\"]).mean().sort_values(by=pollutant,ascending=False).reset_index()\n",
    "    return table[:5].style.background_gradient(cmap='Reds')\n",
    "\n",
    "print(\"Cities having worst levelss of each pollutant-\")\n",
    "for pollutant in pollutants[2:]:\n",
    "    df = max_polluted_cities(pollutant)\n",
    "    display(df)"
   ]
  },
  {
   "cell_type": "markdown",
   "metadata": {},
   "source": [
    "Let us save and upload our work to Jovian before continuing."
   ]
  },
  {
   "cell_type": "code",
   "execution_count": null,
   "metadata": {},
   "outputs": [],
   "source": [
    "import jovian"
   ]
  },
  {
   "cell_type": "code",
   "execution_count": null,
   "metadata": {},
   "outputs": [],
   "source": [
    "jovian.commit()"
   ]
  },
  {
   "cell_type": "markdown",
   "metadata": {},
   "source": [
    "## Inferences and Conclusion\n",
    "\n",
    "**TODO** - Write some explanation here: a summary of all the inferences drawn from the analysis, and any conclusions you may have drawn by answering various questions."
   ]
  },
  {
   "cell_type": "code",
   "execution_count": null,
   "metadata": {},
   "outputs": [],
   "source": [
    "import jovian"
   ]
  },
  {
   "cell_type": "code",
   "execution_count": null,
   "metadata": {},
   "outputs": [],
   "source": [
    "jovian.commit()"
   ]
  },
  {
   "cell_type": "markdown",
   "metadata": {},
   "source": [
    "## References and Future Work\n",
    "\n",
    "**TODO** - In future, I will try more possibilities among columns and rows to visualize the answer."
   ]
  },
  {
   "cell_type": "markdown",
   "metadata": {},
   "source": [
    "> Submission Instructions (delete this cell)\n",
    "> \n",
    "> - Upload your notebook to your Jovian.ml profile using `jovian.commit`.\n",
    "> - **Make a submission here**: https://jovian.ml/learn/data-analysis-with-python-zero-to-pandas/assignment/course-project\n",
    "> - Share your work on the forum: https://jovian.ml/forum/t/course-project-on-exploratory-data-analysis-discuss-and-share-your-work/11684\n",
    "> - Share your work on social media (Twitter, LinkedIn, Telegram etc.) and tag [@JovianML](https://twitter.com/jovianml)\n",
    ">\n",
    "> (Optional) Write a blog post\n",
    "> \n",
    "> - A blog post is a great way to present and showcase your work.  \n",
    "> - Sign up on [Medium.com](https://medium.com) to write a blog post for your project.\n",
    "> - Copy over the explanations from your Jupyter notebook into your blog post, and [embed code cells & outputs](https://medium.com/jovianml/share-and-embed-jupyter-notebooks-online-with-jovian-ml-df709a03064e)\n",
    "> - Check out the Jovian.ml Medium publication for inspiration: https://medium.com/jovianml\n",
    "\n",
    "\n",
    " "
   ]
  },
  {
   "cell_type": "code",
   "execution_count": null,
   "metadata": {},
   "outputs": [],
   "source": [
    "import jovian"
   ]
  },
  {
   "cell_type": "code",
   "execution_count": null,
   "metadata": {
    "scrolled": true
   },
   "outputs": [],
   "source": [
    "jovian.commit()"
   ]
  },
  {
   "cell_type": "code",
   "execution_count": null,
   "metadata": {},
   "outputs": [],
   "source": []
  }
 ],
 "metadata": {
  "kernelspec": {
   "display_name": "Python 3",
   "language": "python",
   "name": "python3"
  },
  "language_info": {
   "codemirror_mode": {
    "name": "ipython",
    "version": 3
   },
   "file_extension": ".py",
   "mimetype": "text/x-python",
   "name": "python",
   "nbconvert_exporter": "python",
   "pygments_lexer": "ipython3",
   "version": "3.9.1"
  }
 },
 "nbformat": 4,
 "nbformat_minor": 4
}
